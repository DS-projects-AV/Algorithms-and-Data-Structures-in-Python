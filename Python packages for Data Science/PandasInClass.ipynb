{
  "nbformat": 4,
  "nbformat_minor": 0,
  "metadata": {
    "colab": {
      "name": "PandasInClass.ipynb",
      "provenance": []
    },
    "kernelspec": {
      "name": "python3",
      "display_name": "Python 3"
    },
    "language_info": {
      "name": "python"
    }
  },
  "cells": [
    {
      "cell_type": "markdown",
      "metadata": {
        "id": "ZCgQ715sTZK0"
      },
      "source": [
        "# Series creation and indexing"
      ]
    },
    {
      "cell_type": "code",
      "metadata": {
        "colab": {
          "base_uri": "https://localhost:8080/"
        },
        "id": "voKGrYaiTdHi",
        "outputId": "7f1458e2-48ed-42f6-c282-c2d636565786"
      },
      "source": [
        "import pandas as pd\n",
        "import numpy as np\n",
        "\n",
        "#create series\n",
        "\n",
        "s = pd.Series(np.array([10, 12, 13, 14, 15]))\n",
        "print('s:\\n', s,'\\n', s.shape)\n"
      ],
      "execution_count": 2,
      "outputs": [
        {
          "output_type": "stream",
          "name": "stdout",
          "text": [
            "s:\n",
            " 0    10\n",
            "1    12\n",
            "2    13\n",
            "3    14\n",
            "4    15\n",
            "dtype: int64 \n",
            " (5,)\n"
          ]
        }
      ]
    },
    {
      "cell_type": "code",
      "metadata": {
        "colab": {
          "base_uri": "https://localhost:8080/"
        },
        "id": "3BXAvvgxT-Kl",
        "outputId": "0e97caa1-c481-403d-d00a-46b832690f11"
      },
      "source": [
        "s = pd.Series({'Di':'di.wu@colorado.edu','Harry Potter': 'HP@magickingdom.com'}, index = ['Di', \"Harry Potter\", \"Trump\"] )\n",
        "print('s:\\n', s,'\\n', s.shape)"
      ],
      "execution_count": 3,
      "outputs": [
        {
          "output_type": "stream",
          "name": "stdout",
          "text": [
            "s:\n",
            " Di               di.wu@colorado.edu\n",
            "Harry Potter    HP@magickingdom.com\n",
            "Trump                           NaN\n",
            "dtype: object \n",
            " (3,)\n"
          ]
        }
      ]
    },
    {
      "cell_type": "code",
      "metadata": {
        "colab": {
          "base_uri": "https://localhost:8080/"
        },
        "id": "jAUlg3ncVQRC",
        "outputId": "0357c9e7-a5e6-4795-8b76-a2f3cf28072e"
      },
      "source": [
        "s = pd.Series(18, index = [1, 100, 1000, 10000])\n",
        "print('s:\\n', s,'\\n', s.shape)"
      ],
      "execution_count": null,
      "outputs": [
        {
          "output_type": "stream",
          "name": "stdout",
          "text": [
            "s:\n",
            " 1        18\n",
            "100      18\n",
            "1000     18\n",
            "10000    18\n",
            "dtype: int64 \n",
            " (4,)\n"
          ]
        }
      ]
    },
    {
      "cell_type": "code",
      "metadata": {
        "colab": {
          "base_uri": "https://localhost:8080/"
        },
        "id": "mBwrPJndWOrB",
        "outputId": "41018b07-c6d1-4b10-de4e-7e212497557c"
      },
      "source": [
        "s = pd.Series({'A': 11, 'B': 18, 'C': 2021})\n",
        "print('s:\\n', s,'\\n', s.shape)"
      ],
      "execution_count": null,
      "outputs": [
        {
          "output_type": "stream",
          "name": "stdout",
          "text": [
            "s:\n",
            " A      11\n",
            "B      18\n",
            "C    2021\n",
            "dtype: int64 \n",
            " (3,)\n"
          ]
        }
      ]
    },
    {
      "cell_type": "code",
      "metadata": {
        "colab": {
          "base_uri": "https://localhost:8080/"
        },
        "id": "bW-LfpT3WlL0",
        "outputId": "a101d2a8-b130-4c17-8839-730c67610633"
      },
      "source": [
        "s"
      ],
      "execution_count": null,
      "outputs": [
        {
          "output_type": "execute_result",
          "data": {
            "text/plain": [
              "A      11\n",
              "B      18\n",
              "C    2021\n",
              "dtype: int64"
            ]
          },
          "metadata": {},
          "execution_count": 12
        }
      ]
    },
    {
      "cell_type": "code",
      "metadata": {
        "colab": {
          "base_uri": "https://localhost:8080/"
        },
        "id": "q52r-rfzWwWs",
        "outputId": "ab52a782-5984-4816-854f-7c9f55991f1e"
      },
      "source": [
        "s[0]"
      ],
      "execution_count": null,
      "outputs": [
        {
          "output_type": "execute_result",
          "data": {
            "text/plain": [
              "11"
            ]
          },
          "metadata": {},
          "execution_count": 13
        }
      ]
    },
    {
      "cell_type": "code",
      "metadata": {
        "colab": {
          "base_uri": "https://localhost:8080/"
        },
        "id": "mIl9MFBIW71t",
        "outputId": "e8e887bf-6c92-486e-d227-883aa18ed3ed"
      },
      "source": [
        "s[:2]"
      ],
      "execution_count": null,
      "outputs": [
        {
          "output_type": "execute_result",
          "data": {
            "text/plain": [
              "A    11\n",
              "B    18\n",
              "dtype: int64"
            ]
          },
          "metadata": {},
          "execution_count": 14
        }
      ]
    },
    {
      "cell_type": "code",
      "metadata": {
        "colab": {
          "base_uri": "https://localhost:8080/"
        },
        "id": "nLKNF9M4XBp-",
        "outputId": "411450fc-3b65-48df-c45c-8abb34d2bf01"
      },
      "source": [
        "s['C']"
      ],
      "execution_count": null,
      "outputs": [
        {
          "output_type": "execute_result",
          "data": {
            "text/plain": [
              "2021"
            ]
          },
          "metadata": {},
          "execution_count": 16
        }
      ]
    },
    {
      "cell_type": "code",
      "metadata": {
        "colab": {
          "base_uri": "https://localhost:8080/"
        },
        "id": "8gB7oCciXIfW",
        "outputId": "153c51db-fa98-4cb3-e9bf-ac8f3cce95f4"
      },
      "source": [
        "df = pd.DataFrame([1, 2, 3])\n",
        "print('df\\n', df, '\\n',df.shape)"
      ],
      "execution_count": null,
      "outputs": [
        {
          "output_type": "stream",
          "name": "stdout",
          "text": [
            "df\n",
            "    0\n",
            "0  1\n",
            "1  2\n",
            "2  3 \n",
            " (3, 1)\n"
          ]
        }
      ]
    },
    {
      "cell_type": "code",
      "metadata": {
        "colab": {
          "base_uri": "https://localhost:8080/",
          "height": 143
        },
        "id": "cO_lH97DY6iq",
        "outputId": "57d4033f-c23d-407a-abc5-b36974f6ed11"
      },
      "source": [
        "df"
      ],
      "execution_count": null,
      "outputs": [
        {
          "output_type": "execute_result",
          "data": {
            "text/html": [
              "<div>\n",
              "<style scoped>\n",
              "    .dataframe tbody tr th:only-of-type {\n",
              "        vertical-align: middle;\n",
              "    }\n",
              "\n",
              "    .dataframe tbody tr th {\n",
              "        vertical-align: top;\n",
              "    }\n",
              "\n",
              "    .dataframe thead th {\n",
              "        text-align: right;\n",
              "    }\n",
              "</style>\n",
              "<table border=\"1\" class=\"dataframe\">\n",
              "  <thead>\n",
              "    <tr style=\"text-align: right;\">\n",
              "      <th></th>\n",
              "      <th>0</th>\n",
              "    </tr>\n",
              "  </thead>\n",
              "  <tbody>\n",
              "    <tr>\n",
              "      <th>0</th>\n",
              "      <td>1</td>\n",
              "    </tr>\n",
              "    <tr>\n",
              "      <th>1</th>\n",
              "      <td>2</td>\n",
              "    </tr>\n",
              "    <tr>\n",
              "      <th>2</th>\n",
              "      <td>3</td>\n",
              "    </tr>\n",
              "  </tbody>\n",
              "</table>\n",
              "</div>"
            ],
            "text/plain": [
              "   0\n",
              "0  1\n",
              "1  2\n",
              "2  3"
            ]
          },
          "metadata": {},
          "execution_count": 19
        }
      ]
    },
    {
      "cell_type": "code",
      "metadata": {
        "colab": {
          "base_uri": "https://localhost:8080/",
          "height": 143
        },
        "id": "io6BWgBOZFhp",
        "outputId": "d008a39e-407d-4884-ca31-459c19b1248f"
      },
      "source": [
        "df = pd.DataFrame([1, 2, 3], columns = ['Value'])\n",
        "df"
      ],
      "execution_count": null,
      "outputs": [
        {
          "output_type": "execute_result",
          "data": {
            "text/html": [
              "<div>\n",
              "<style scoped>\n",
              "    .dataframe tbody tr th:only-of-type {\n",
              "        vertical-align: middle;\n",
              "    }\n",
              "\n",
              "    .dataframe tbody tr th {\n",
              "        vertical-align: top;\n",
              "    }\n",
              "\n",
              "    .dataframe thead th {\n",
              "        text-align: right;\n",
              "    }\n",
              "</style>\n",
              "<table border=\"1\" class=\"dataframe\">\n",
              "  <thead>\n",
              "    <tr style=\"text-align: right;\">\n",
              "      <th></th>\n",
              "      <th>Value</th>\n",
              "    </tr>\n",
              "  </thead>\n",
              "  <tbody>\n",
              "    <tr>\n",
              "      <th>0</th>\n",
              "      <td>1</td>\n",
              "    </tr>\n",
              "    <tr>\n",
              "      <th>1</th>\n",
              "      <td>2</td>\n",
              "    </tr>\n",
              "    <tr>\n",
              "      <th>2</th>\n",
              "      <td>3</td>\n",
              "    </tr>\n",
              "  </tbody>\n",
              "</table>\n",
              "</div>"
            ],
            "text/plain": [
              "   Value\n",
              "0      1\n",
              "1      2\n",
              "2      3"
            ]
          },
          "metadata": {},
          "execution_count": 21
        }
      ]
    },
    {
      "cell_type": "code",
      "metadata": {
        "colab": {
          "base_uri": "https://localhost:8080/",
          "height": 143
        },
        "id": "ou8XqcLtZQNi",
        "outputId": "69db6634-05ff-4363-be9a-1a40fd5c1006"
      },
      "source": [
        "df = pd.DataFrame({'Name':['A', 'B', 'C'], 'V1':[11, 18, 2021], 'V2':[12, 25, 2021]})\n",
        "df"
      ],
      "execution_count": null,
      "outputs": [
        {
          "output_type": "execute_result",
          "data": {
            "text/html": [
              "<div>\n",
              "<style scoped>\n",
              "    .dataframe tbody tr th:only-of-type {\n",
              "        vertical-align: middle;\n",
              "    }\n",
              "\n",
              "    .dataframe tbody tr th {\n",
              "        vertical-align: top;\n",
              "    }\n",
              "\n",
              "    .dataframe thead th {\n",
              "        text-align: right;\n",
              "    }\n",
              "</style>\n",
              "<table border=\"1\" class=\"dataframe\">\n",
              "  <thead>\n",
              "    <tr style=\"text-align: right;\">\n",
              "      <th></th>\n",
              "      <th>Name</th>\n",
              "      <th>V1</th>\n",
              "      <th>V2</th>\n",
              "    </tr>\n",
              "  </thead>\n",
              "  <tbody>\n",
              "    <tr>\n",
              "      <th>0</th>\n",
              "      <td>A</td>\n",
              "      <td>11</td>\n",
              "      <td>12</td>\n",
              "    </tr>\n",
              "    <tr>\n",
              "      <th>1</th>\n",
              "      <td>B</td>\n",
              "      <td>18</td>\n",
              "      <td>25</td>\n",
              "    </tr>\n",
              "    <tr>\n",
              "      <th>2</th>\n",
              "      <td>C</td>\n",
              "      <td>2021</td>\n",
              "      <td>2021</td>\n",
              "    </tr>\n",
              "  </tbody>\n",
              "</table>\n",
              "</div>"
            ],
            "text/plain": [
              "  Name    V1    V2\n",
              "0    A    11    12\n",
              "1    B    18    25\n",
              "2    C  2021  2021"
            ]
          },
          "metadata": {},
          "execution_count": 22
        }
      ]
    },
    {
      "cell_type": "code",
      "metadata": {
        "colab": {
          "base_uri": "https://localhost:8080/"
        },
        "id": "MzNTq5lzZntO",
        "outputId": "fcc70628-cbc2-4d27-d7dc-20e7185cb8fc"
      },
      "source": [
        "print(df['Name'])"
      ],
      "execution_count": null,
      "outputs": [
        {
          "output_type": "stream",
          "name": "stdout",
          "text": [
            "0    A\n",
            "1    B\n",
            "2    C\n",
            "Name: Name, dtype: object\n"
          ]
        }
      ]
    },
    {
      "cell_type": "code",
      "metadata": {
        "colab": {
          "base_uri": "https://localhost:8080/"
        },
        "id": "b_qGybK1ZvZO",
        "outputId": "57cbfa91-2f1d-4091-f330-e841ded9f629"
      },
      "source": [
        "print(df.loc[0])"
      ],
      "execution_count": null,
      "outputs": [
        {
          "output_type": "stream",
          "name": "stdout",
          "text": [
            "Name     A\n",
            "V1      11\n",
            "V2      12\n",
            "Name: 0, dtype: object\n"
          ]
        }
      ]
    },
    {
      "cell_type": "code",
      "metadata": {
        "colab": {
          "base_uri": "https://localhost:8080/",
          "height": 143
        },
        "id": "1enqhnBOZ0WS",
        "outputId": "bb50fb57-0ceb-4be3-c09c-45319863424d"
      },
      "source": [
        "df['V3'] = df['V1'] + df['V2']\n",
        "df"
      ],
      "execution_count": null,
      "outputs": [
        {
          "output_type": "execute_result",
          "data": {
            "text/html": [
              "<div>\n",
              "<style scoped>\n",
              "    .dataframe tbody tr th:only-of-type {\n",
              "        vertical-align: middle;\n",
              "    }\n",
              "\n",
              "    .dataframe tbody tr th {\n",
              "        vertical-align: top;\n",
              "    }\n",
              "\n",
              "    .dataframe thead th {\n",
              "        text-align: right;\n",
              "    }\n",
              "</style>\n",
              "<table border=\"1\" class=\"dataframe\">\n",
              "  <thead>\n",
              "    <tr style=\"text-align: right;\">\n",
              "      <th></th>\n",
              "      <th>Name</th>\n",
              "      <th>V1</th>\n",
              "      <th>V2</th>\n",
              "      <th>V3</th>\n",
              "    </tr>\n",
              "  </thead>\n",
              "  <tbody>\n",
              "    <tr>\n",
              "      <th>0</th>\n",
              "      <td>A</td>\n",
              "      <td>11</td>\n",
              "      <td>12</td>\n",
              "      <td>23</td>\n",
              "    </tr>\n",
              "    <tr>\n",
              "      <th>1</th>\n",
              "      <td>B</td>\n",
              "      <td>18</td>\n",
              "      <td>25</td>\n",
              "      <td>43</td>\n",
              "    </tr>\n",
              "    <tr>\n",
              "      <th>2</th>\n",
              "      <td>C</td>\n",
              "      <td>2021</td>\n",
              "      <td>2021</td>\n",
              "      <td>4042</td>\n",
              "    </tr>\n",
              "  </tbody>\n",
              "</table>\n",
              "</div>"
            ],
            "text/plain": [
              "  Name    V1    V2    V3\n",
              "0    A    11    12    23\n",
              "1    B    18    25    43\n",
              "2    C  2021  2021  4042"
            ]
          },
          "metadata": {},
          "execution_count": 32
        }
      ]
    },
    {
      "cell_type": "code",
      "metadata": {
        "colab": {
          "base_uri": "https://localhost:8080/",
          "height": 143
        },
        "id": "B7O70sAFaElb",
        "outputId": "8e1172d9-ce9a-4a3f-bcd9-05ef4e797f13"
      },
      "source": [
        "df['V4'] = df['V1'] *2\n",
        "df"
      ],
      "execution_count": null,
      "outputs": [
        {
          "output_type": "execute_result",
          "data": {
            "text/html": [
              "<div>\n",
              "<style scoped>\n",
              "    .dataframe tbody tr th:only-of-type {\n",
              "        vertical-align: middle;\n",
              "    }\n",
              "\n",
              "    .dataframe tbody tr th {\n",
              "        vertical-align: top;\n",
              "    }\n",
              "\n",
              "    .dataframe thead th {\n",
              "        text-align: right;\n",
              "    }\n",
              "</style>\n",
              "<table border=\"1\" class=\"dataframe\">\n",
              "  <thead>\n",
              "    <tr style=\"text-align: right;\">\n",
              "      <th></th>\n",
              "      <th>Name</th>\n",
              "      <th>V1</th>\n",
              "      <th>V2</th>\n",
              "      <th>V3</th>\n",
              "      <th>V4</th>\n",
              "    </tr>\n",
              "  </thead>\n",
              "  <tbody>\n",
              "    <tr>\n",
              "      <th>0</th>\n",
              "      <td>A</td>\n",
              "      <td>11</td>\n",
              "      <td>12</td>\n",
              "      <td>23</td>\n",
              "      <td>22</td>\n",
              "    </tr>\n",
              "    <tr>\n",
              "      <th>1</th>\n",
              "      <td>B</td>\n",
              "      <td>18</td>\n",
              "      <td>25</td>\n",
              "      <td>43</td>\n",
              "      <td>36</td>\n",
              "    </tr>\n",
              "    <tr>\n",
              "      <th>2</th>\n",
              "      <td>C</td>\n",
              "      <td>2021</td>\n",
              "      <td>2021</td>\n",
              "      <td>4042</td>\n",
              "      <td>4042</td>\n",
              "    </tr>\n",
              "  </tbody>\n",
              "</table>\n",
              "</div>"
            ],
            "text/plain": [
              "  Name    V1    V2    V3    V4\n",
              "0    A    11    12    23    22\n",
              "1    B    18    25    43    36\n",
              "2    C  2021  2021  4042  4042"
            ]
          },
          "metadata": {},
          "execution_count": 28
        }
      ]
    },
    {
      "cell_type": "code",
      "metadata": {
        "colab": {
          "base_uri": "https://localhost:8080/",
          "height": 143
        },
        "id": "yPbMSFBwaV1M",
        "outputId": "42091f33-2cb0-45f4-a723-829f7903be56"
      },
      "source": [
        "del df['V4']\n",
        "df"
      ],
      "execution_count": null,
      "outputs": [
        {
          "output_type": "execute_result",
          "data": {
            "text/html": [
              "<div>\n",
              "<style scoped>\n",
              "    .dataframe tbody tr th:only-of-type {\n",
              "        vertical-align: middle;\n",
              "    }\n",
              "\n",
              "    .dataframe tbody tr th {\n",
              "        vertical-align: top;\n",
              "    }\n",
              "\n",
              "    .dataframe thead th {\n",
              "        text-align: right;\n",
              "    }\n",
              "</style>\n",
              "<table border=\"1\" class=\"dataframe\">\n",
              "  <thead>\n",
              "    <tr style=\"text-align: right;\">\n",
              "      <th></th>\n",
              "      <th>Name</th>\n",
              "      <th>V1</th>\n",
              "      <th>V2</th>\n",
              "      <th>V3</th>\n",
              "    </tr>\n",
              "  </thead>\n",
              "  <tbody>\n",
              "    <tr>\n",
              "      <th>0</th>\n",
              "      <td>A</td>\n",
              "      <td>11</td>\n",
              "      <td>12</td>\n",
              "      <td>23</td>\n",
              "    </tr>\n",
              "    <tr>\n",
              "      <th>1</th>\n",
              "      <td>B</td>\n",
              "      <td>18</td>\n",
              "      <td>25</td>\n",
              "      <td>43</td>\n",
              "    </tr>\n",
              "    <tr>\n",
              "      <th>2</th>\n",
              "      <td>C</td>\n",
              "      <td>2021</td>\n",
              "      <td>2021</td>\n",
              "      <td>4042</td>\n",
              "    </tr>\n",
              "  </tbody>\n",
              "</table>\n",
              "</div>"
            ],
            "text/plain": [
              "  Name    V1    V2    V3\n",
              "0    A    11    12    23\n",
              "1    B    18    25    43\n",
              "2    C  2021  2021  4042"
            ]
          },
          "metadata": {},
          "execution_count": 29
        }
      ]
    },
    {
      "cell_type": "code",
      "metadata": {
        "colab": {
          "base_uri": "https://localhost:8080/",
          "height": 213
        },
        "id": "-YJvN6UjafIt",
        "outputId": "617f2e7c-d30b-4269-cfa8-8595a48cbe32"
      },
      "source": [
        "print(df.pop('V3'))\n",
        "df"
      ],
      "execution_count": null,
      "outputs": [
        {
          "output_type": "stream",
          "name": "stdout",
          "text": [
            "0      23\n",
            "1      43\n",
            "2    4042\n",
            "Name: V3, dtype: int64\n"
          ]
        },
        {
          "output_type": "execute_result",
          "data": {
            "text/html": [
              "<div>\n",
              "<style scoped>\n",
              "    .dataframe tbody tr th:only-of-type {\n",
              "        vertical-align: middle;\n",
              "    }\n",
              "\n",
              "    .dataframe tbody tr th {\n",
              "        vertical-align: top;\n",
              "    }\n",
              "\n",
              "    .dataframe thead th {\n",
              "        text-align: right;\n",
              "    }\n",
              "</style>\n",
              "<table border=\"1\" class=\"dataframe\">\n",
              "  <thead>\n",
              "    <tr style=\"text-align: right;\">\n",
              "      <th></th>\n",
              "      <th>Name</th>\n",
              "      <th>V1</th>\n",
              "      <th>V2</th>\n",
              "    </tr>\n",
              "  </thead>\n",
              "  <tbody>\n",
              "    <tr>\n",
              "      <th>0</th>\n",
              "      <td>A</td>\n",
              "      <td>11</td>\n",
              "      <td>12</td>\n",
              "    </tr>\n",
              "    <tr>\n",
              "      <th>1</th>\n",
              "      <td>B</td>\n",
              "      <td>18</td>\n",
              "      <td>25</td>\n",
              "    </tr>\n",
              "    <tr>\n",
              "      <th>2</th>\n",
              "      <td>C</td>\n",
              "      <td>2021</td>\n",
              "      <td>2021</td>\n",
              "    </tr>\n",
              "  </tbody>\n",
              "</table>\n",
              "</div>"
            ],
            "text/plain": [
              "  Name    V1    V2\n",
              "0    A    11    12\n",
              "1    B    18    25\n",
              "2    C  2021  2021"
            ]
          },
          "metadata": {},
          "execution_count": 33
        }
      ]
    },
    {
      "cell_type": "code",
      "metadata": {
        "colab": {
          "base_uri": "https://localhost:8080/",
          "height": 425
        },
        "id": "rJUa_Oc4akUM",
        "outputId": "dee5dcee-bb9a-4363-d3e7-00a30cfcb933"
      },
      "source": [
        "df = df.append(df, ignore_index= True)\n",
        "df"
      ],
      "execution_count": null,
      "outputs": [
        {
          "output_type": "execute_result",
          "data": {
            "text/html": [
              "<div>\n",
              "<style scoped>\n",
              "    .dataframe tbody tr th:only-of-type {\n",
              "        vertical-align: middle;\n",
              "    }\n",
              "\n",
              "    .dataframe tbody tr th {\n",
              "        vertical-align: top;\n",
              "    }\n",
              "\n",
              "    .dataframe thead th {\n",
              "        text-align: right;\n",
              "    }\n",
              "</style>\n",
              "<table border=\"1\" class=\"dataframe\">\n",
              "  <thead>\n",
              "    <tr style=\"text-align: right;\">\n",
              "      <th></th>\n",
              "      <th>Name</th>\n",
              "      <th>V1</th>\n",
              "      <th>V2</th>\n",
              "    </tr>\n",
              "  </thead>\n",
              "  <tbody>\n",
              "    <tr>\n",
              "      <th>0</th>\n",
              "      <td>A</td>\n",
              "      <td>11</td>\n",
              "      <td>12</td>\n",
              "    </tr>\n",
              "    <tr>\n",
              "      <th>1</th>\n",
              "      <td>B</td>\n",
              "      <td>18</td>\n",
              "      <td>25</td>\n",
              "    </tr>\n",
              "    <tr>\n",
              "      <th>2</th>\n",
              "      <td>C</td>\n",
              "      <td>2021</td>\n",
              "      <td>2021</td>\n",
              "    </tr>\n",
              "    <tr>\n",
              "      <th>3</th>\n",
              "      <td>A</td>\n",
              "      <td>11</td>\n",
              "      <td>12</td>\n",
              "    </tr>\n",
              "    <tr>\n",
              "      <th>4</th>\n",
              "      <td>B</td>\n",
              "      <td>18</td>\n",
              "      <td>25</td>\n",
              "    </tr>\n",
              "    <tr>\n",
              "      <th>5</th>\n",
              "      <td>C</td>\n",
              "      <td>2021</td>\n",
              "      <td>2021</td>\n",
              "    </tr>\n",
              "    <tr>\n",
              "      <th>6</th>\n",
              "      <td>A</td>\n",
              "      <td>11</td>\n",
              "      <td>12</td>\n",
              "    </tr>\n",
              "    <tr>\n",
              "      <th>7</th>\n",
              "      <td>B</td>\n",
              "      <td>18</td>\n",
              "      <td>25</td>\n",
              "    </tr>\n",
              "    <tr>\n",
              "      <th>8</th>\n",
              "      <td>C</td>\n",
              "      <td>2021</td>\n",
              "      <td>2021</td>\n",
              "    </tr>\n",
              "    <tr>\n",
              "      <th>9</th>\n",
              "      <td>A</td>\n",
              "      <td>11</td>\n",
              "      <td>12</td>\n",
              "    </tr>\n",
              "    <tr>\n",
              "      <th>10</th>\n",
              "      <td>B</td>\n",
              "      <td>18</td>\n",
              "      <td>25</td>\n",
              "    </tr>\n",
              "    <tr>\n",
              "      <th>11</th>\n",
              "      <td>C</td>\n",
              "      <td>2021</td>\n",
              "      <td>2021</td>\n",
              "    </tr>\n",
              "  </tbody>\n",
              "</table>\n",
              "</div>"
            ],
            "text/plain": [
              "   Name    V1    V2\n",
              "0     A    11    12\n",
              "1     B    18    25\n",
              "2     C  2021  2021\n",
              "3     A    11    12\n",
              "4     B    18    25\n",
              "5     C  2021  2021\n",
              "6     A    11    12\n",
              "7     B    18    25\n",
              "8     C  2021  2021\n",
              "9     A    11    12\n",
              "10    B    18    25\n",
              "11    C  2021  2021"
            ]
          },
          "metadata": {},
          "execution_count": 35
        }
      ]
    },
    {
      "cell_type": "code",
      "metadata": {
        "colab": {
          "base_uri": "https://localhost:8080/",
          "height": 1000
        },
        "id": "LPFKDAtYa6f1",
        "outputId": "31da54ed-40d8-4241-9201-2b5554565355"
      },
      "source": [
        "df = df.append(df)\n",
        "df"
      ],
      "execution_count": null,
      "outputs": [
        {
          "output_type": "execute_result",
          "data": {
            "text/html": [
              "<div>\n",
              "<style scoped>\n",
              "    .dataframe tbody tr th:only-of-type {\n",
              "        vertical-align: middle;\n",
              "    }\n",
              "\n",
              "    .dataframe tbody tr th {\n",
              "        vertical-align: top;\n",
              "    }\n",
              "\n",
              "    .dataframe thead th {\n",
              "        text-align: right;\n",
              "    }\n",
              "</style>\n",
              "<table border=\"1\" class=\"dataframe\">\n",
              "  <thead>\n",
              "    <tr style=\"text-align: right;\">\n",
              "      <th></th>\n",
              "      <th>Name</th>\n",
              "      <th>V1</th>\n",
              "      <th>V2</th>\n",
              "    </tr>\n",
              "  </thead>\n",
              "  <tbody>\n",
              "    <tr>\n",
              "      <th>0</th>\n",
              "      <td>A</td>\n",
              "      <td>11</td>\n",
              "      <td>12</td>\n",
              "    </tr>\n",
              "    <tr>\n",
              "      <th>1</th>\n",
              "      <td>B</td>\n",
              "      <td>18</td>\n",
              "      <td>25</td>\n",
              "    </tr>\n",
              "    <tr>\n",
              "      <th>2</th>\n",
              "      <td>C</td>\n",
              "      <td>2021</td>\n",
              "      <td>2021</td>\n",
              "    </tr>\n",
              "    <tr>\n",
              "      <th>3</th>\n",
              "      <td>A</td>\n",
              "      <td>11</td>\n",
              "      <td>12</td>\n",
              "    </tr>\n",
              "    <tr>\n",
              "      <th>4</th>\n",
              "      <td>B</td>\n",
              "      <td>18</td>\n",
              "      <td>25</td>\n",
              "    </tr>\n",
              "    <tr>\n",
              "      <th>5</th>\n",
              "      <td>C</td>\n",
              "      <td>2021</td>\n",
              "      <td>2021</td>\n",
              "    </tr>\n",
              "    <tr>\n",
              "      <th>6</th>\n",
              "      <td>A</td>\n",
              "      <td>11</td>\n",
              "      <td>12</td>\n",
              "    </tr>\n",
              "    <tr>\n",
              "      <th>7</th>\n",
              "      <td>B</td>\n",
              "      <td>18</td>\n",
              "      <td>25</td>\n",
              "    </tr>\n",
              "    <tr>\n",
              "      <th>8</th>\n",
              "      <td>C</td>\n",
              "      <td>2021</td>\n",
              "      <td>2021</td>\n",
              "    </tr>\n",
              "    <tr>\n",
              "      <th>9</th>\n",
              "      <td>A</td>\n",
              "      <td>11</td>\n",
              "      <td>12</td>\n",
              "    </tr>\n",
              "    <tr>\n",
              "      <th>10</th>\n",
              "      <td>B</td>\n",
              "      <td>18</td>\n",
              "      <td>25</td>\n",
              "    </tr>\n",
              "    <tr>\n",
              "      <th>11</th>\n",
              "      <td>C</td>\n",
              "      <td>2021</td>\n",
              "      <td>2021</td>\n",
              "    </tr>\n",
              "    <tr>\n",
              "      <th>0</th>\n",
              "      <td>A</td>\n",
              "      <td>11</td>\n",
              "      <td>12</td>\n",
              "    </tr>\n",
              "    <tr>\n",
              "      <th>1</th>\n",
              "      <td>B</td>\n",
              "      <td>18</td>\n",
              "      <td>25</td>\n",
              "    </tr>\n",
              "    <tr>\n",
              "      <th>2</th>\n",
              "      <td>C</td>\n",
              "      <td>2021</td>\n",
              "      <td>2021</td>\n",
              "    </tr>\n",
              "    <tr>\n",
              "      <th>3</th>\n",
              "      <td>A</td>\n",
              "      <td>11</td>\n",
              "      <td>12</td>\n",
              "    </tr>\n",
              "    <tr>\n",
              "      <th>4</th>\n",
              "      <td>B</td>\n",
              "      <td>18</td>\n",
              "      <td>25</td>\n",
              "    </tr>\n",
              "    <tr>\n",
              "      <th>5</th>\n",
              "      <td>C</td>\n",
              "      <td>2021</td>\n",
              "      <td>2021</td>\n",
              "    </tr>\n",
              "    <tr>\n",
              "      <th>6</th>\n",
              "      <td>A</td>\n",
              "      <td>11</td>\n",
              "      <td>12</td>\n",
              "    </tr>\n",
              "    <tr>\n",
              "      <th>7</th>\n",
              "      <td>B</td>\n",
              "      <td>18</td>\n",
              "      <td>25</td>\n",
              "    </tr>\n",
              "    <tr>\n",
              "      <th>8</th>\n",
              "      <td>C</td>\n",
              "      <td>2021</td>\n",
              "      <td>2021</td>\n",
              "    </tr>\n",
              "    <tr>\n",
              "      <th>9</th>\n",
              "      <td>A</td>\n",
              "      <td>11</td>\n",
              "      <td>12</td>\n",
              "    </tr>\n",
              "    <tr>\n",
              "      <th>10</th>\n",
              "      <td>B</td>\n",
              "      <td>18</td>\n",
              "      <td>25</td>\n",
              "    </tr>\n",
              "    <tr>\n",
              "      <th>11</th>\n",
              "      <td>C</td>\n",
              "      <td>2021</td>\n",
              "      <td>2021</td>\n",
              "    </tr>\n",
              "    <tr>\n",
              "      <th>0</th>\n",
              "      <td>A</td>\n",
              "      <td>11</td>\n",
              "      <td>12</td>\n",
              "    </tr>\n",
              "    <tr>\n",
              "      <th>1</th>\n",
              "      <td>B</td>\n",
              "      <td>18</td>\n",
              "      <td>25</td>\n",
              "    </tr>\n",
              "    <tr>\n",
              "      <th>2</th>\n",
              "      <td>C</td>\n",
              "      <td>2021</td>\n",
              "      <td>2021</td>\n",
              "    </tr>\n",
              "    <tr>\n",
              "      <th>3</th>\n",
              "      <td>A</td>\n",
              "      <td>11</td>\n",
              "      <td>12</td>\n",
              "    </tr>\n",
              "    <tr>\n",
              "      <th>4</th>\n",
              "      <td>B</td>\n",
              "      <td>18</td>\n",
              "      <td>25</td>\n",
              "    </tr>\n",
              "    <tr>\n",
              "      <th>5</th>\n",
              "      <td>C</td>\n",
              "      <td>2021</td>\n",
              "      <td>2021</td>\n",
              "    </tr>\n",
              "    <tr>\n",
              "      <th>6</th>\n",
              "      <td>A</td>\n",
              "      <td>11</td>\n",
              "      <td>12</td>\n",
              "    </tr>\n",
              "    <tr>\n",
              "      <th>7</th>\n",
              "      <td>B</td>\n",
              "      <td>18</td>\n",
              "      <td>25</td>\n",
              "    </tr>\n",
              "    <tr>\n",
              "      <th>8</th>\n",
              "      <td>C</td>\n",
              "      <td>2021</td>\n",
              "      <td>2021</td>\n",
              "    </tr>\n",
              "    <tr>\n",
              "      <th>9</th>\n",
              "      <td>A</td>\n",
              "      <td>11</td>\n",
              "      <td>12</td>\n",
              "    </tr>\n",
              "    <tr>\n",
              "      <th>10</th>\n",
              "      <td>B</td>\n",
              "      <td>18</td>\n",
              "      <td>25</td>\n",
              "    </tr>\n",
              "    <tr>\n",
              "      <th>11</th>\n",
              "      <td>C</td>\n",
              "      <td>2021</td>\n",
              "      <td>2021</td>\n",
              "    </tr>\n",
              "    <tr>\n",
              "      <th>0</th>\n",
              "      <td>A</td>\n",
              "      <td>11</td>\n",
              "      <td>12</td>\n",
              "    </tr>\n",
              "    <tr>\n",
              "      <th>1</th>\n",
              "      <td>B</td>\n",
              "      <td>18</td>\n",
              "      <td>25</td>\n",
              "    </tr>\n",
              "    <tr>\n",
              "      <th>2</th>\n",
              "      <td>C</td>\n",
              "      <td>2021</td>\n",
              "      <td>2021</td>\n",
              "    </tr>\n",
              "    <tr>\n",
              "      <th>3</th>\n",
              "      <td>A</td>\n",
              "      <td>11</td>\n",
              "      <td>12</td>\n",
              "    </tr>\n",
              "    <tr>\n",
              "      <th>4</th>\n",
              "      <td>B</td>\n",
              "      <td>18</td>\n",
              "      <td>25</td>\n",
              "    </tr>\n",
              "    <tr>\n",
              "      <th>5</th>\n",
              "      <td>C</td>\n",
              "      <td>2021</td>\n",
              "      <td>2021</td>\n",
              "    </tr>\n",
              "    <tr>\n",
              "      <th>6</th>\n",
              "      <td>A</td>\n",
              "      <td>11</td>\n",
              "      <td>12</td>\n",
              "    </tr>\n",
              "    <tr>\n",
              "      <th>7</th>\n",
              "      <td>B</td>\n",
              "      <td>18</td>\n",
              "      <td>25</td>\n",
              "    </tr>\n",
              "    <tr>\n",
              "      <th>8</th>\n",
              "      <td>C</td>\n",
              "      <td>2021</td>\n",
              "      <td>2021</td>\n",
              "    </tr>\n",
              "    <tr>\n",
              "      <th>9</th>\n",
              "      <td>A</td>\n",
              "      <td>11</td>\n",
              "      <td>12</td>\n",
              "    </tr>\n",
              "    <tr>\n",
              "      <th>10</th>\n",
              "      <td>B</td>\n",
              "      <td>18</td>\n",
              "      <td>25</td>\n",
              "    </tr>\n",
              "    <tr>\n",
              "      <th>11</th>\n",
              "      <td>C</td>\n",
              "      <td>2021</td>\n",
              "      <td>2021</td>\n",
              "    </tr>\n",
              "  </tbody>\n",
              "</table>\n",
              "</div>"
            ],
            "text/plain": [
              "   Name    V1    V2\n",
              "0     A    11    12\n",
              "1     B    18    25\n",
              "2     C  2021  2021\n",
              "3     A    11    12\n",
              "4     B    18    25\n",
              "5     C  2021  2021\n",
              "6     A    11    12\n",
              "7     B    18    25\n",
              "8     C  2021  2021\n",
              "9     A    11    12\n",
              "10    B    18    25\n",
              "11    C  2021  2021\n",
              "0     A    11    12\n",
              "1     B    18    25\n",
              "2     C  2021  2021\n",
              "3     A    11    12\n",
              "4     B    18    25\n",
              "5     C  2021  2021\n",
              "6     A    11    12\n",
              "7     B    18    25\n",
              "8     C  2021  2021\n",
              "9     A    11    12\n",
              "10    B    18    25\n",
              "11    C  2021  2021\n",
              "0     A    11    12\n",
              "1     B    18    25\n",
              "2     C  2021  2021\n",
              "3     A    11    12\n",
              "4     B    18    25\n",
              "5     C  2021  2021\n",
              "6     A    11    12\n",
              "7     B    18    25\n",
              "8     C  2021  2021\n",
              "9     A    11    12\n",
              "10    B    18    25\n",
              "11    C  2021  2021\n",
              "0     A    11    12\n",
              "1     B    18    25\n",
              "2     C  2021  2021\n",
              "3     A    11    12\n",
              "4     B    18    25\n",
              "5     C  2021  2021\n",
              "6     A    11    12\n",
              "7     B    18    25\n",
              "8     C  2021  2021\n",
              "9     A    11    12\n",
              "10    B    18    25\n",
              "11    C  2021  2021"
            ]
          },
          "metadata": {},
          "execution_count": 37
        }
      ]
    },
    {
      "cell_type": "code",
      "metadata": {
        "colab": {
          "base_uri": "https://localhost:8080/",
          "height": 1000
        },
        "id": "86Od19RObglW",
        "outputId": "68741e9f-b9f3-4829-d45b-dafdcd044b1d"
      },
      "source": [
        "df = df.set_index(np.arange(48))\n",
        "df"
      ],
      "execution_count": null,
      "outputs": [
        {
          "output_type": "execute_result",
          "data": {
            "text/html": [
              "<div>\n",
              "<style scoped>\n",
              "    .dataframe tbody tr th:only-of-type {\n",
              "        vertical-align: middle;\n",
              "    }\n",
              "\n",
              "    .dataframe tbody tr th {\n",
              "        vertical-align: top;\n",
              "    }\n",
              "\n",
              "    .dataframe thead th {\n",
              "        text-align: right;\n",
              "    }\n",
              "</style>\n",
              "<table border=\"1\" class=\"dataframe\">\n",
              "  <thead>\n",
              "    <tr style=\"text-align: right;\">\n",
              "      <th></th>\n",
              "      <th>Name</th>\n",
              "      <th>V1</th>\n",
              "      <th>V2</th>\n",
              "    </tr>\n",
              "  </thead>\n",
              "  <tbody>\n",
              "    <tr>\n",
              "      <th>0</th>\n",
              "      <td>A</td>\n",
              "      <td>11</td>\n",
              "      <td>12</td>\n",
              "    </tr>\n",
              "    <tr>\n",
              "      <th>1</th>\n",
              "      <td>B</td>\n",
              "      <td>18</td>\n",
              "      <td>25</td>\n",
              "    </tr>\n",
              "    <tr>\n",
              "      <th>2</th>\n",
              "      <td>C</td>\n",
              "      <td>2021</td>\n",
              "      <td>2021</td>\n",
              "    </tr>\n",
              "    <tr>\n",
              "      <th>3</th>\n",
              "      <td>A</td>\n",
              "      <td>11</td>\n",
              "      <td>12</td>\n",
              "    </tr>\n",
              "    <tr>\n",
              "      <th>4</th>\n",
              "      <td>B</td>\n",
              "      <td>18</td>\n",
              "      <td>25</td>\n",
              "    </tr>\n",
              "    <tr>\n",
              "      <th>5</th>\n",
              "      <td>C</td>\n",
              "      <td>2021</td>\n",
              "      <td>2021</td>\n",
              "    </tr>\n",
              "    <tr>\n",
              "      <th>6</th>\n",
              "      <td>A</td>\n",
              "      <td>11</td>\n",
              "      <td>12</td>\n",
              "    </tr>\n",
              "    <tr>\n",
              "      <th>7</th>\n",
              "      <td>B</td>\n",
              "      <td>18</td>\n",
              "      <td>25</td>\n",
              "    </tr>\n",
              "    <tr>\n",
              "      <th>8</th>\n",
              "      <td>C</td>\n",
              "      <td>2021</td>\n",
              "      <td>2021</td>\n",
              "    </tr>\n",
              "    <tr>\n",
              "      <th>9</th>\n",
              "      <td>A</td>\n",
              "      <td>11</td>\n",
              "      <td>12</td>\n",
              "    </tr>\n",
              "    <tr>\n",
              "      <th>10</th>\n",
              "      <td>B</td>\n",
              "      <td>18</td>\n",
              "      <td>25</td>\n",
              "    </tr>\n",
              "    <tr>\n",
              "      <th>11</th>\n",
              "      <td>C</td>\n",
              "      <td>2021</td>\n",
              "      <td>2021</td>\n",
              "    </tr>\n",
              "    <tr>\n",
              "      <th>12</th>\n",
              "      <td>A</td>\n",
              "      <td>11</td>\n",
              "      <td>12</td>\n",
              "    </tr>\n",
              "    <tr>\n",
              "      <th>13</th>\n",
              "      <td>B</td>\n",
              "      <td>18</td>\n",
              "      <td>25</td>\n",
              "    </tr>\n",
              "    <tr>\n",
              "      <th>14</th>\n",
              "      <td>C</td>\n",
              "      <td>2021</td>\n",
              "      <td>2021</td>\n",
              "    </tr>\n",
              "    <tr>\n",
              "      <th>15</th>\n",
              "      <td>A</td>\n",
              "      <td>11</td>\n",
              "      <td>12</td>\n",
              "    </tr>\n",
              "    <tr>\n",
              "      <th>16</th>\n",
              "      <td>B</td>\n",
              "      <td>18</td>\n",
              "      <td>25</td>\n",
              "    </tr>\n",
              "    <tr>\n",
              "      <th>17</th>\n",
              "      <td>C</td>\n",
              "      <td>2021</td>\n",
              "      <td>2021</td>\n",
              "    </tr>\n",
              "    <tr>\n",
              "      <th>18</th>\n",
              "      <td>A</td>\n",
              "      <td>11</td>\n",
              "      <td>12</td>\n",
              "    </tr>\n",
              "    <tr>\n",
              "      <th>19</th>\n",
              "      <td>B</td>\n",
              "      <td>18</td>\n",
              "      <td>25</td>\n",
              "    </tr>\n",
              "    <tr>\n",
              "      <th>20</th>\n",
              "      <td>C</td>\n",
              "      <td>2021</td>\n",
              "      <td>2021</td>\n",
              "    </tr>\n",
              "    <tr>\n",
              "      <th>21</th>\n",
              "      <td>A</td>\n",
              "      <td>11</td>\n",
              "      <td>12</td>\n",
              "    </tr>\n",
              "    <tr>\n",
              "      <th>22</th>\n",
              "      <td>B</td>\n",
              "      <td>18</td>\n",
              "      <td>25</td>\n",
              "    </tr>\n",
              "    <tr>\n",
              "      <th>23</th>\n",
              "      <td>C</td>\n",
              "      <td>2021</td>\n",
              "      <td>2021</td>\n",
              "    </tr>\n",
              "    <tr>\n",
              "      <th>24</th>\n",
              "      <td>A</td>\n",
              "      <td>11</td>\n",
              "      <td>12</td>\n",
              "    </tr>\n",
              "    <tr>\n",
              "      <th>25</th>\n",
              "      <td>B</td>\n",
              "      <td>18</td>\n",
              "      <td>25</td>\n",
              "    </tr>\n",
              "    <tr>\n",
              "      <th>26</th>\n",
              "      <td>C</td>\n",
              "      <td>2021</td>\n",
              "      <td>2021</td>\n",
              "    </tr>\n",
              "    <tr>\n",
              "      <th>27</th>\n",
              "      <td>A</td>\n",
              "      <td>11</td>\n",
              "      <td>12</td>\n",
              "    </tr>\n",
              "    <tr>\n",
              "      <th>28</th>\n",
              "      <td>B</td>\n",
              "      <td>18</td>\n",
              "      <td>25</td>\n",
              "    </tr>\n",
              "    <tr>\n",
              "      <th>29</th>\n",
              "      <td>C</td>\n",
              "      <td>2021</td>\n",
              "      <td>2021</td>\n",
              "    </tr>\n",
              "    <tr>\n",
              "      <th>30</th>\n",
              "      <td>A</td>\n",
              "      <td>11</td>\n",
              "      <td>12</td>\n",
              "    </tr>\n",
              "    <tr>\n",
              "      <th>31</th>\n",
              "      <td>B</td>\n",
              "      <td>18</td>\n",
              "      <td>25</td>\n",
              "    </tr>\n",
              "    <tr>\n",
              "      <th>32</th>\n",
              "      <td>C</td>\n",
              "      <td>2021</td>\n",
              "      <td>2021</td>\n",
              "    </tr>\n",
              "    <tr>\n",
              "      <th>33</th>\n",
              "      <td>A</td>\n",
              "      <td>11</td>\n",
              "      <td>12</td>\n",
              "    </tr>\n",
              "    <tr>\n",
              "      <th>34</th>\n",
              "      <td>B</td>\n",
              "      <td>18</td>\n",
              "      <td>25</td>\n",
              "    </tr>\n",
              "    <tr>\n",
              "      <th>35</th>\n",
              "      <td>C</td>\n",
              "      <td>2021</td>\n",
              "      <td>2021</td>\n",
              "    </tr>\n",
              "    <tr>\n",
              "      <th>36</th>\n",
              "      <td>A</td>\n",
              "      <td>11</td>\n",
              "      <td>12</td>\n",
              "    </tr>\n",
              "    <tr>\n",
              "      <th>37</th>\n",
              "      <td>B</td>\n",
              "      <td>18</td>\n",
              "      <td>25</td>\n",
              "    </tr>\n",
              "    <tr>\n",
              "      <th>38</th>\n",
              "      <td>C</td>\n",
              "      <td>2021</td>\n",
              "      <td>2021</td>\n",
              "    </tr>\n",
              "    <tr>\n",
              "      <th>39</th>\n",
              "      <td>A</td>\n",
              "      <td>11</td>\n",
              "      <td>12</td>\n",
              "    </tr>\n",
              "    <tr>\n",
              "      <th>40</th>\n",
              "      <td>B</td>\n",
              "      <td>18</td>\n",
              "      <td>25</td>\n",
              "    </tr>\n",
              "    <tr>\n",
              "      <th>41</th>\n",
              "      <td>C</td>\n",
              "      <td>2021</td>\n",
              "      <td>2021</td>\n",
              "    </tr>\n",
              "    <tr>\n",
              "      <th>42</th>\n",
              "      <td>A</td>\n",
              "      <td>11</td>\n",
              "      <td>12</td>\n",
              "    </tr>\n",
              "    <tr>\n",
              "      <th>43</th>\n",
              "      <td>B</td>\n",
              "      <td>18</td>\n",
              "      <td>25</td>\n",
              "    </tr>\n",
              "    <tr>\n",
              "      <th>44</th>\n",
              "      <td>C</td>\n",
              "      <td>2021</td>\n",
              "      <td>2021</td>\n",
              "    </tr>\n",
              "    <tr>\n",
              "      <th>45</th>\n",
              "      <td>A</td>\n",
              "      <td>11</td>\n",
              "      <td>12</td>\n",
              "    </tr>\n",
              "    <tr>\n",
              "      <th>46</th>\n",
              "      <td>B</td>\n",
              "      <td>18</td>\n",
              "      <td>25</td>\n",
              "    </tr>\n",
              "    <tr>\n",
              "      <th>47</th>\n",
              "      <td>C</td>\n",
              "      <td>2021</td>\n",
              "      <td>2021</td>\n",
              "    </tr>\n",
              "  </tbody>\n",
              "</table>\n",
              "</div>"
            ],
            "text/plain": [
              "   Name    V1    V2\n",
              "0     A    11    12\n",
              "1     B    18    25\n",
              "2     C  2021  2021\n",
              "3     A    11    12\n",
              "4     B    18    25\n",
              "5     C  2021  2021\n",
              "6     A    11    12\n",
              "7     B    18    25\n",
              "8     C  2021  2021\n",
              "9     A    11    12\n",
              "10    B    18    25\n",
              "11    C  2021  2021\n",
              "12    A    11    12\n",
              "13    B    18    25\n",
              "14    C  2021  2021\n",
              "15    A    11    12\n",
              "16    B    18    25\n",
              "17    C  2021  2021\n",
              "18    A    11    12\n",
              "19    B    18    25\n",
              "20    C  2021  2021\n",
              "21    A    11    12\n",
              "22    B    18    25\n",
              "23    C  2021  2021\n",
              "24    A    11    12\n",
              "25    B    18    25\n",
              "26    C  2021  2021\n",
              "27    A    11    12\n",
              "28    B    18    25\n",
              "29    C  2021  2021\n",
              "30    A    11    12\n",
              "31    B    18    25\n",
              "32    C  2021  2021\n",
              "33    A    11    12\n",
              "34    B    18    25\n",
              "35    C  2021  2021\n",
              "36    A    11    12\n",
              "37    B    18    25\n",
              "38    C  2021  2021\n",
              "39    A    11    12\n",
              "40    B    18    25\n",
              "41    C  2021  2021\n",
              "42    A    11    12\n",
              "43    B    18    25\n",
              "44    C  2021  2021\n",
              "45    A    11    12\n",
              "46    B    18    25\n",
              "47    C  2021  2021"
            ]
          },
          "metadata": {},
          "execution_count": 40
        }
      ]
    },
    {
      "cell_type": "code",
      "metadata": {
        "colab": {
          "base_uri": "https://localhost:8080/"
        },
        "id": "PClt6DpfbpcX",
        "outputId": "f0d00c40-63e7-4189-9010-dac9f5d63ec6"
      },
      "source": [
        "print(df.sum())"
      ],
      "execution_count": null,
      "outputs": [
        {
          "output_type": "stream",
          "name": "stdout",
          "text": [
            "Name    ABCABCABCABCABCABCABCABCABCABCABCABCABCABCABCABC\n",
            "V1                                                 32800\n",
            "V2                                                 32928\n",
            "dtype: object\n"
          ]
        }
      ]
    },
    {
      "cell_type": "code",
      "metadata": {
        "colab": {
          "base_uri": "https://localhost:8080/"
        },
        "id": "EIsRNChOcRJP",
        "outputId": "4d7586e8-67fa-4564-b91f-2c07b3456fb7"
      },
      "source": [
        "print(df.sum(1))"
      ],
      "execution_count": null,
      "outputs": [
        {
          "output_type": "stream",
          "name": "stdout",
          "text": [
            "0       23\n",
            "1       43\n",
            "2     4042\n",
            "3       23\n",
            "4       43\n",
            "5     4042\n",
            "6       23\n",
            "7       43\n",
            "8     4042\n",
            "9       23\n",
            "10      43\n",
            "11    4042\n",
            "12      23\n",
            "13      43\n",
            "14    4042\n",
            "15      23\n",
            "16      43\n",
            "17    4042\n",
            "18      23\n",
            "19      43\n",
            "20    4042\n",
            "21      23\n",
            "22      43\n",
            "23    4042\n",
            "24      23\n",
            "25      43\n",
            "26    4042\n",
            "27      23\n",
            "28      43\n",
            "29    4042\n",
            "30      23\n",
            "31      43\n",
            "32    4042\n",
            "33      23\n",
            "34      43\n",
            "35    4042\n",
            "36      23\n",
            "37      43\n",
            "38    4042\n",
            "39      23\n",
            "40      43\n",
            "41    4042\n",
            "42      23\n",
            "43      43\n",
            "44    4042\n",
            "45      23\n",
            "46      43\n",
            "47    4042\n",
            "dtype: int64\n"
          ]
        }
      ]
    },
    {
      "cell_type": "code",
      "metadata": {
        "colab": {
          "base_uri": "https://localhost:8080/"
        },
        "id": "PkZVFDaocXSv",
        "outputId": "ec8cfbde-ac0d-42a9-e62b-4ed004b809fb"
      },
      "source": [
        "df.min()"
      ],
      "execution_count": null,
      "outputs": [
        {
          "output_type": "execute_result",
          "data": {
            "text/plain": [
              "Name     A\n",
              "V1      11\n",
              "V2      12\n",
              "dtype: object"
            ]
          },
          "metadata": {},
          "execution_count": 43
        }
      ]
    },
    {
      "cell_type": "code",
      "metadata": {
        "colab": {
          "base_uri": "https://localhost:8080/",
          "height": 143
        },
        "id": "79HyvLp7cgGw",
        "outputId": "b343a73f-072a-41aa-a984-cdcd3c5e72cc"
      },
      "source": [
        "df.mode()"
      ],
      "execution_count": null,
      "outputs": [
        {
          "output_type": "execute_result",
          "data": {
            "text/html": [
              "<div>\n",
              "<style scoped>\n",
              "    .dataframe tbody tr th:only-of-type {\n",
              "        vertical-align: middle;\n",
              "    }\n",
              "\n",
              "    .dataframe tbody tr th {\n",
              "        vertical-align: top;\n",
              "    }\n",
              "\n",
              "    .dataframe thead th {\n",
              "        text-align: right;\n",
              "    }\n",
              "</style>\n",
              "<table border=\"1\" class=\"dataframe\">\n",
              "  <thead>\n",
              "    <tr style=\"text-align: right;\">\n",
              "      <th></th>\n",
              "      <th>Name</th>\n",
              "      <th>V1</th>\n",
              "      <th>V2</th>\n",
              "    </tr>\n",
              "  </thead>\n",
              "  <tbody>\n",
              "    <tr>\n",
              "      <th>0</th>\n",
              "      <td>A</td>\n",
              "      <td>11</td>\n",
              "      <td>12</td>\n",
              "    </tr>\n",
              "    <tr>\n",
              "      <th>1</th>\n",
              "      <td>B</td>\n",
              "      <td>18</td>\n",
              "      <td>25</td>\n",
              "    </tr>\n",
              "    <tr>\n",
              "      <th>2</th>\n",
              "      <td>C</td>\n",
              "      <td>2021</td>\n",
              "      <td>2021</td>\n",
              "    </tr>\n",
              "  </tbody>\n",
              "</table>\n",
              "</div>"
            ],
            "text/plain": [
              "  Name    V1    V2\n",
              "0    A    11    12\n",
              "1    B    18    25\n",
              "2    C  2021  2021"
            ]
          },
          "metadata": {},
          "execution_count": 44
        }
      ]
    },
    {
      "cell_type": "code",
      "metadata": {
        "colab": {
          "base_uri": "https://localhost:8080/"
        },
        "id": "whiTzIfgcisw",
        "outputId": "3d25694c-078f-4ee7-efd2-a9b17f0ee77f"
      },
      "source": [
        "df2 = df.groupby('Name')\n",
        "print(df2.groups)"
      ],
      "execution_count": null,
      "outputs": [
        {
          "output_type": "stream",
          "name": "stdout",
          "text": [
            "{'A': [0, 3, 6, 9, 12, 15, 18, 21, 24, 27, 30, 33, 36, 39, 42, 45], 'B': [1, 4, 7, 10, 13, 16, 19, 22, 25, 28, 31, 34, 37, 40, 43, 46], 'C': [2, 5, 8, 11, 14, 17, 20, 23, 26, 29, 32, 35, 38, 41, 44, 47]}\n"
          ]
        }
      ]
    },
    {
      "cell_type": "code",
      "metadata": {
        "colab": {
          "base_uri": "https://localhost:8080/"
        },
        "id": "cBg27yDRcvto",
        "outputId": "306e1a12-f562-4264-a421-e2c01fd4d1ab"
      },
      "source": [
        "for n, v in df2:\n",
        "  print(n, v)"
      ],
      "execution_count": null,
      "outputs": [
        {
          "output_type": "stream",
          "name": "stdout",
          "text": [
            "A    Name  V1  V2\n",
            "0     A  11  12\n",
            "3     A  11  12\n",
            "6     A  11  12\n",
            "9     A  11  12\n",
            "12    A  11  12\n",
            "15    A  11  12\n",
            "18    A  11  12\n",
            "21    A  11  12\n",
            "24    A  11  12\n",
            "27    A  11  12\n",
            "30    A  11  12\n",
            "33    A  11  12\n",
            "36    A  11  12\n",
            "39    A  11  12\n",
            "42    A  11  12\n",
            "45    A  11  12\n",
            "B    Name  V1  V2\n",
            "1     B  18  25\n",
            "4     B  18  25\n",
            "7     B  18  25\n",
            "10    B  18  25\n",
            "13    B  18  25\n",
            "16    B  18  25\n",
            "19    B  18  25\n",
            "22    B  18  25\n",
            "25    B  18  25\n",
            "28    B  18  25\n",
            "31    B  18  25\n",
            "34    B  18  25\n",
            "37    B  18  25\n",
            "40    B  18  25\n",
            "43    B  18  25\n",
            "46    B  18  25\n",
            "C    Name    V1    V2\n",
            "2     C  2021  2021\n",
            "5     C  2021  2021\n",
            "8     C  2021  2021\n",
            "11    C  2021  2021\n",
            "14    C  2021  2021\n",
            "17    C  2021  2021\n",
            "20    C  2021  2021\n",
            "23    C  2021  2021\n",
            "26    C  2021  2021\n",
            "29    C  2021  2021\n",
            "32    C  2021  2021\n",
            "35    C  2021  2021\n",
            "38    C  2021  2021\n",
            "41    C  2021  2021\n",
            "44    C  2021  2021\n",
            "47    C  2021  2021\n"
          ]
        }
      ]
    },
    {
      "cell_type": "code",
      "metadata": {
        "colab": {
          "base_uri": "https://localhost:8080/",
          "height": 1000
        },
        "id": "_djtFwJwdLQI",
        "outputId": "c590f365-0e66-4cd1-c8c3-43e2fcad567a"
      },
      "source": [
        "df"
      ],
      "execution_count": null,
      "outputs": [
        {
          "output_type": "execute_result",
          "data": {
            "text/html": [
              "<div>\n",
              "<style scoped>\n",
              "    .dataframe tbody tr th:only-of-type {\n",
              "        vertical-align: middle;\n",
              "    }\n",
              "\n",
              "    .dataframe tbody tr th {\n",
              "        vertical-align: top;\n",
              "    }\n",
              "\n",
              "    .dataframe thead th {\n",
              "        text-align: right;\n",
              "    }\n",
              "</style>\n",
              "<table border=\"1\" class=\"dataframe\">\n",
              "  <thead>\n",
              "    <tr style=\"text-align: right;\">\n",
              "      <th></th>\n",
              "      <th>Name</th>\n",
              "      <th>V1</th>\n",
              "      <th>V2</th>\n",
              "    </tr>\n",
              "  </thead>\n",
              "  <tbody>\n",
              "    <tr>\n",
              "      <th>0</th>\n",
              "      <td>A</td>\n",
              "      <td>11</td>\n",
              "      <td>12</td>\n",
              "    </tr>\n",
              "    <tr>\n",
              "      <th>1</th>\n",
              "      <td>B</td>\n",
              "      <td>18</td>\n",
              "      <td>25</td>\n",
              "    </tr>\n",
              "    <tr>\n",
              "      <th>2</th>\n",
              "      <td>C</td>\n",
              "      <td>2021</td>\n",
              "      <td>2021</td>\n",
              "    </tr>\n",
              "    <tr>\n",
              "      <th>3</th>\n",
              "      <td>A</td>\n",
              "      <td>11</td>\n",
              "      <td>12</td>\n",
              "    </tr>\n",
              "    <tr>\n",
              "      <th>4</th>\n",
              "      <td>B</td>\n",
              "      <td>18</td>\n",
              "      <td>25</td>\n",
              "    </tr>\n",
              "    <tr>\n",
              "      <th>5</th>\n",
              "      <td>C</td>\n",
              "      <td>2021</td>\n",
              "      <td>2021</td>\n",
              "    </tr>\n",
              "    <tr>\n",
              "      <th>6</th>\n",
              "      <td>A</td>\n",
              "      <td>11</td>\n",
              "      <td>12</td>\n",
              "    </tr>\n",
              "    <tr>\n",
              "      <th>7</th>\n",
              "      <td>B</td>\n",
              "      <td>18</td>\n",
              "      <td>25</td>\n",
              "    </tr>\n",
              "    <tr>\n",
              "      <th>8</th>\n",
              "      <td>C</td>\n",
              "      <td>2021</td>\n",
              "      <td>2021</td>\n",
              "    </tr>\n",
              "    <tr>\n",
              "      <th>9</th>\n",
              "      <td>A</td>\n",
              "      <td>11</td>\n",
              "      <td>12</td>\n",
              "    </tr>\n",
              "    <tr>\n",
              "      <th>10</th>\n",
              "      <td>B</td>\n",
              "      <td>18</td>\n",
              "      <td>25</td>\n",
              "    </tr>\n",
              "    <tr>\n",
              "      <th>11</th>\n",
              "      <td>C</td>\n",
              "      <td>2021</td>\n",
              "      <td>2021</td>\n",
              "    </tr>\n",
              "    <tr>\n",
              "      <th>12</th>\n",
              "      <td>A</td>\n",
              "      <td>11</td>\n",
              "      <td>12</td>\n",
              "    </tr>\n",
              "    <tr>\n",
              "      <th>13</th>\n",
              "      <td>B</td>\n",
              "      <td>18</td>\n",
              "      <td>25</td>\n",
              "    </tr>\n",
              "    <tr>\n",
              "      <th>14</th>\n",
              "      <td>C</td>\n",
              "      <td>2021</td>\n",
              "      <td>2021</td>\n",
              "    </tr>\n",
              "    <tr>\n",
              "      <th>15</th>\n",
              "      <td>A</td>\n",
              "      <td>11</td>\n",
              "      <td>12</td>\n",
              "    </tr>\n",
              "    <tr>\n",
              "      <th>16</th>\n",
              "      <td>B</td>\n",
              "      <td>18</td>\n",
              "      <td>25</td>\n",
              "    </tr>\n",
              "    <tr>\n",
              "      <th>17</th>\n",
              "      <td>C</td>\n",
              "      <td>2021</td>\n",
              "      <td>2021</td>\n",
              "    </tr>\n",
              "    <tr>\n",
              "      <th>18</th>\n",
              "      <td>A</td>\n",
              "      <td>11</td>\n",
              "      <td>12</td>\n",
              "    </tr>\n",
              "    <tr>\n",
              "      <th>19</th>\n",
              "      <td>B</td>\n",
              "      <td>18</td>\n",
              "      <td>25</td>\n",
              "    </tr>\n",
              "    <tr>\n",
              "      <th>20</th>\n",
              "      <td>C</td>\n",
              "      <td>2021</td>\n",
              "      <td>2021</td>\n",
              "    </tr>\n",
              "    <tr>\n",
              "      <th>21</th>\n",
              "      <td>A</td>\n",
              "      <td>11</td>\n",
              "      <td>12</td>\n",
              "    </tr>\n",
              "    <tr>\n",
              "      <th>22</th>\n",
              "      <td>B</td>\n",
              "      <td>18</td>\n",
              "      <td>25</td>\n",
              "    </tr>\n",
              "    <tr>\n",
              "      <th>23</th>\n",
              "      <td>C</td>\n",
              "      <td>2021</td>\n",
              "      <td>2021</td>\n",
              "    </tr>\n",
              "    <tr>\n",
              "      <th>24</th>\n",
              "      <td>A</td>\n",
              "      <td>11</td>\n",
              "      <td>12</td>\n",
              "    </tr>\n",
              "    <tr>\n",
              "      <th>25</th>\n",
              "      <td>B</td>\n",
              "      <td>18</td>\n",
              "      <td>25</td>\n",
              "    </tr>\n",
              "    <tr>\n",
              "      <th>26</th>\n",
              "      <td>C</td>\n",
              "      <td>2021</td>\n",
              "      <td>2021</td>\n",
              "    </tr>\n",
              "    <tr>\n",
              "      <th>27</th>\n",
              "      <td>A</td>\n",
              "      <td>11</td>\n",
              "      <td>12</td>\n",
              "    </tr>\n",
              "    <tr>\n",
              "      <th>28</th>\n",
              "      <td>B</td>\n",
              "      <td>18</td>\n",
              "      <td>25</td>\n",
              "    </tr>\n",
              "    <tr>\n",
              "      <th>29</th>\n",
              "      <td>C</td>\n",
              "      <td>2021</td>\n",
              "      <td>2021</td>\n",
              "    </tr>\n",
              "    <tr>\n",
              "      <th>30</th>\n",
              "      <td>A</td>\n",
              "      <td>11</td>\n",
              "      <td>12</td>\n",
              "    </tr>\n",
              "    <tr>\n",
              "      <th>31</th>\n",
              "      <td>B</td>\n",
              "      <td>18</td>\n",
              "      <td>25</td>\n",
              "    </tr>\n",
              "    <tr>\n",
              "      <th>32</th>\n",
              "      <td>C</td>\n",
              "      <td>2021</td>\n",
              "      <td>2021</td>\n",
              "    </tr>\n",
              "    <tr>\n",
              "      <th>33</th>\n",
              "      <td>A</td>\n",
              "      <td>11</td>\n",
              "      <td>12</td>\n",
              "    </tr>\n",
              "    <tr>\n",
              "      <th>34</th>\n",
              "      <td>B</td>\n",
              "      <td>18</td>\n",
              "      <td>25</td>\n",
              "    </tr>\n",
              "    <tr>\n",
              "      <th>35</th>\n",
              "      <td>C</td>\n",
              "      <td>2021</td>\n",
              "      <td>2021</td>\n",
              "    </tr>\n",
              "    <tr>\n",
              "      <th>36</th>\n",
              "      <td>A</td>\n",
              "      <td>11</td>\n",
              "      <td>12</td>\n",
              "    </tr>\n",
              "    <tr>\n",
              "      <th>37</th>\n",
              "      <td>B</td>\n",
              "      <td>18</td>\n",
              "      <td>25</td>\n",
              "    </tr>\n",
              "    <tr>\n",
              "      <th>38</th>\n",
              "      <td>C</td>\n",
              "      <td>2021</td>\n",
              "      <td>2021</td>\n",
              "    </tr>\n",
              "    <tr>\n",
              "      <th>39</th>\n",
              "      <td>A</td>\n",
              "      <td>11</td>\n",
              "      <td>12</td>\n",
              "    </tr>\n",
              "    <tr>\n",
              "      <th>40</th>\n",
              "      <td>B</td>\n",
              "      <td>18</td>\n",
              "      <td>25</td>\n",
              "    </tr>\n",
              "    <tr>\n",
              "      <th>41</th>\n",
              "      <td>C</td>\n",
              "      <td>2021</td>\n",
              "      <td>2021</td>\n",
              "    </tr>\n",
              "    <tr>\n",
              "      <th>42</th>\n",
              "      <td>A</td>\n",
              "      <td>11</td>\n",
              "      <td>12</td>\n",
              "    </tr>\n",
              "    <tr>\n",
              "      <th>43</th>\n",
              "      <td>B</td>\n",
              "      <td>18</td>\n",
              "      <td>25</td>\n",
              "    </tr>\n",
              "    <tr>\n",
              "      <th>44</th>\n",
              "      <td>C</td>\n",
              "      <td>2021</td>\n",
              "      <td>2021</td>\n",
              "    </tr>\n",
              "    <tr>\n",
              "      <th>45</th>\n",
              "      <td>A</td>\n",
              "      <td>11</td>\n",
              "      <td>12</td>\n",
              "    </tr>\n",
              "    <tr>\n",
              "      <th>46</th>\n",
              "      <td>B</td>\n",
              "      <td>18</td>\n",
              "      <td>25</td>\n",
              "    </tr>\n",
              "    <tr>\n",
              "      <th>47</th>\n",
              "      <td>C</td>\n",
              "      <td>2021</td>\n",
              "      <td>2021</td>\n",
              "    </tr>\n",
              "  </tbody>\n",
              "</table>\n",
              "</div>"
            ],
            "text/plain": [
              "   Name    V1    V2\n",
              "0     A    11    12\n",
              "1     B    18    25\n",
              "2     C  2021  2021\n",
              "3     A    11    12\n",
              "4     B    18    25\n",
              "5     C  2021  2021\n",
              "6     A    11    12\n",
              "7     B    18    25\n",
              "8     C  2021  2021\n",
              "9     A    11    12\n",
              "10    B    18    25\n",
              "11    C  2021  2021\n",
              "12    A    11    12\n",
              "13    B    18    25\n",
              "14    C  2021  2021\n",
              "15    A    11    12\n",
              "16    B    18    25\n",
              "17    C  2021  2021\n",
              "18    A    11    12\n",
              "19    B    18    25\n",
              "20    C  2021  2021\n",
              "21    A    11    12\n",
              "22    B    18    25\n",
              "23    C  2021  2021\n",
              "24    A    11    12\n",
              "25    B    18    25\n",
              "26    C  2021  2021\n",
              "27    A    11    12\n",
              "28    B    18    25\n",
              "29    C  2021  2021\n",
              "30    A    11    12\n",
              "31    B    18    25\n",
              "32    C  2021  2021\n",
              "33    A    11    12\n",
              "34    B    18    25\n",
              "35    C  2021  2021\n",
              "36    A    11    12\n",
              "37    B    18    25\n",
              "38    C  2021  2021\n",
              "39    A    11    12\n",
              "40    B    18    25\n",
              "41    C  2021  2021\n",
              "42    A    11    12\n",
              "43    B    18    25\n",
              "44    C  2021  2021\n",
              "45    A    11    12\n",
              "46    B    18    25\n",
              "47    C  2021  2021"
            ]
          },
          "metadata": {},
          "execution_count": 49
        }
      ]
    },
    {
      "cell_type": "code",
      "metadata": {
        "colab": {
          "base_uri": "https://localhost:8080/",
          "height": 282
        },
        "id": "ycxdQRlxd0-q",
        "outputId": "e312ec11-93b1-4f75-f3f4-7857bf41b50b"
      },
      "source": [
        "df.plot()"
      ],
      "execution_count": null,
      "outputs": [
        {
          "output_type": "execute_result",
          "data": {
            "text/plain": [
              "<matplotlib.axes._subplots.AxesSubplot at 0x7faa443d1390>"
            ]
          },
          "metadata": {},
          "execution_count": 50
        },
        {
          "output_type": "display_data",
          "data": {
            "image/png": "[encoded data removed]",
            "text/plain": [
              "<Figure size 432x288 with 1 Axes>"
            ]
          },
          "metadata": {
            "needs_background": "light"
          }
        }
      ]
    },
    {
      "cell_type": "code",
      "metadata": {
        "colab": {
          "base_uri": "https://localhost:8080/",
          "height": 285
        },
        "id": "PNab5RoSd4C6",
        "outputId": "343f6c3c-aed2-4236-90af-1b2eccdb1e88"
      },
      "source": [
        "df.plot.bar()"
      ],
      "execution_count": null,
      "outputs": [
        {
          "output_type": "execute_result",
          "data": {
            "text/plain": [
              "<matplotlib.axes._subplots.AxesSubplot at 0x7faa43d5ae90>"
            ]
          },
          "metadata": {},
          "execution_count": 51
        },
        {
          "output_type": "display_data",
          "data": {
            "image/png": "[encoded data removed]",
            "text/plain": [
              "<Figure size 432x288 with 1 Axes>"
            ]
          },
          "metadata": {
            "needs_background": "light"
          }
        }
      ]
    },
    {
      "cell_type": "code",
      "metadata": {
        "colab": {
          "base_uri": "https://localhost:8080/",
          "height": 282
        },
        "id": "xMJI99ceeBEi",
        "outputId": "8be76636-d392-4c8d-c4dc-e3b5a20c8e43"
      },
      "source": [
        "df.plot.hist(bins = 100)"
      ],
      "execution_count": null,
      "outputs": [
        {
          "output_type": "execute_result",
          "data": {
            "text/plain": [
              "<matplotlib.axes._subplots.AxesSubplot at 0x7faa43af8bd0>"
            ]
          },
          "metadata": {},
          "execution_count": 53
        },
        {
          "output_type": "display_data",
          "data": {
            "image/png": "[encoded data removed]",
            "text/plain": [
              "<Figure size 432x288 with 1 Axes>"
            ]
          },
          "metadata": {
            "needs_background": "light"
          }
        }
      ]
    },
    {
      "cell_type": "code",
      "metadata": {
        "colab": {
          "base_uri": "https://localhost:8080/",
          "height": 296
        },
        "id": "1QUBSI_heH6C",
        "outputId": "d2aa9843-b291-4984-b5e7-f5e90f0a5dc0"
      },
      "source": [
        "df.plot.scatter('V1', 'V2')"
      ],
      "execution_count": null,
      "outputs": [
        {
          "output_type": "execute_result",
          "data": {
            "text/plain": [
              "<matplotlib.axes._subplots.AxesSubplot at 0x7faa437f3ed0>"
            ]
          },
          "metadata": {},
          "execution_count": 54
        },
        {
          "output_type": "display_data",
          "data": {
            "image/png": "[encoded data removed]",
            "text/plain": [
              "<Figure size 432x288 with 1 Axes>"
            ]
          },
          "metadata": {
            "needs_background": "light"
          }
        }
      ]
    },
    {
      "cell_type": "code",
      "metadata": {
        "id": "VpsgdCDpeVDa"
      },
      "source": [
        ""
      ],
      "execution_count": null,
      "outputs": []
    },
    {
      "cell_type": "markdown",
      "metadata": {
        "id": "QCG0w2HferM2"
      },
      "source": [
        "Create a dataframe df that:\n",
        "• It has 6 columns: name, a01, a02, a03, a04, a05\n",
        "• It has 500 objects.\n",
        "• name is string data type, you can use student+a random id for it\n",
        "• a1 - 5 are numeric data type (float), should be in [0, 100], you can use a normal\n",
        "distribution np.random.normal(center, std, size)\n",
        "• Print the stats of df\n",
        "• Create a new column called: total= sum(a1, .. a5)\n",
        "• Plot the stats of df"
      ]
    },
    {
      "cell_type": "code",
      "metadata": {
        "colab": {
          "base_uri": "https://localhost:8080/"
        },
        "id": "xOww-VjJeuHF",
        "outputId": "f50746fb-7412-4523-98bd-cf22e9e07452"
      },
      "source": [
        "names = [\"STU\"]*500\n",
        "\n",
        "for i in range(500):\n",
        "  names[i] += str(i)\n",
        "\n",
        "print(names)"
      ],
      "execution_count": null,
      "outputs": [
        {
          "output_type": "stream",
          "name": "stdout",
          "text": [
            "['STU0', 'STU1', 'STU2', 'STU3', 'STU4', 'STU5', 'STU6', 'STU7', 'STU8', 'STU9', 'STU10', 'STU11', 'STU12', 'STU13', 'STU14', 'STU15', 'STU16', 'STU17', 'STU18', 'STU19', 'STU20', 'STU21', 'STU22', 'STU23', 'STU24', 'STU25', 'STU26', 'STU27', 'STU28', 'STU29', 'STU30', 'STU31', 'STU32', 'STU33', 'STU34', 'STU35', 'STU36', 'STU37', 'STU38', 'STU39', 'STU40', 'STU41', 'STU42', 'STU43', 'STU44', 'STU45', 'STU46', 'STU47', 'STU48', 'STU49', 'STU50', 'STU51', 'STU52', 'STU53', 'STU54', 'STU55', 'STU56', 'STU57', 'STU58', 'STU59', 'STU60', 'STU61', 'STU62', 'STU63', 'STU64', 'STU65', 'STU66', 'STU67', 'STU68', 'STU69', 'STU70', 'STU71', 'STU72', 'STU73', 'STU74', 'STU75', 'STU76', 'STU77', 'STU78', 'STU79', 'STU80', 'STU81', 'STU82', 'STU83', 'STU84', 'STU85', 'STU86', 'STU87', 'STU88', 'STU89', 'STU90', 'STU91', 'STU92', 'STU93', 'STU94', 'STU95', 'STU96', 'STU97', 'STU98', 'STU99', 'STU100', 'STU101', 'STU102', 'STU103', 'STU104', 'STU105', 'STU106', 'STU107', 'STU108', 'STU109', 'STU110', 'STU111', 'STU112', 'STU113', 'STU114', 'STU115', 'STU116', 'STU117', 'STU118', 'STU119', 'STU120', 'STU121', 'STU122', 'STU123', 'STU124', 'STU125', 'STU126', 'STU127', 'STU128', 'STU129', 'STU130', 'STU131', 'STU132', 'STU133', 'STU134', 'STU135', 'STU136', 'STU137', 'STU138', 'STU139', 'STU140', 'STU141', 'STU142', 'STU143', 'STU144', 'STU145', 'STU146', 'STU147', 'STU148', 'STU149', 'STU150', 'STU151', 'STU152', 'STU153', 'STU154', 'STU155', 'STU156', 'STU157', 'STU158', 'STU159', 'STU160', 'STU161', 'STU162', 'STU163', 'STU164', 'STU165', 'STU166', 'STU167', 'STU168', 'STU169', 'STU170', 'STU171', 'STU172', 'STU173', 'STU174', 'STU175', 'STU176', 'STU177', 'STU178', 'STU179', 'STU180', 'STU181', 'STU182', 'STU183', 'STU184', 'STU185', 'STU186', 'STU187', 'STU188', 'STU189', 'STU190', 'STU191', 'STU192', 'STU193', 'STU194', 'STU195', 'STU196', 'STU197', 'STU198', 'STU199', 'STU200', 'STU201', 'STU202', 'STU203', 'STU204', 'STU205', 'STU206', 'STU207', 'STU208', 'STU209', 'STU210', 'STU211', 'STU212', 'STU213', 'STU214', 'STU215', 'STU216', 'STU217', 'STU218', 'STU219', 'STU220', 'STU221', 'STU222', 'STU223', 'STU224', 'STU225', 'STU226', 'STU227', 'STU228', 'STU229', 'STU230', 'STU231', 'STU232', 'STU233', 'STU234', 'STU235', 'STU236', 'STU237', 'STU238', 'STU239', 'STU240', 'STU241', 'STU242', 'STU243', 'STU244', 'STU245', 'STU246', 'STU247', 'STU248', 'STU249', 'STU250', 'STU251', 'STU252', 'STU253', 'STU254', 'STU255', 'STU256', 'STU257', 'STU258', 'STU259', 'STU260', 'STU261', 'STU262', 'STU263', 'STU264', 'STU265', 'STU266', 'STU267', 'STU268', 'STU269', 'STU270', 'STU271', 'STU272', 'STU273', 'STU274', 'STU275', 'STU276', 'STU277', 'STU278', 'STU279', 'STU280', 'STU281', 'STU282', 'STU283', 'STU284', 'STU285', 'STU286', 'STU287', 'STU288', 'STU289', 'STU290', 'STU291', 'STU292', 'STU293', 'STU294', 'STU295', 'STU296', 'STU297', 'STU298', 'STU299', 'STU300', 'STU301', 'STU302', 'STU303', 'STU304', 'STU305', 'STU306', 'STU307', 'STU308', 'STU309', 'STU310', 'STU311', 'STU312', 'STU313', 'STU314', 'STU315', 'STU316', 'STU317', 'STU318', 'STU319', 'STU320', 'STU321', 'STU322', 'STU323', 'STU324', 'STU325', 'STU326', 'STU327', 'STU328', 'STU329', 'STU330', 'STU331', 'STU332', 'STU333', 'STU334', 'STU335', 'STU336', 'STU337', 'STU338', 'STU339', 'STU340', 'STU341', 'STU342', 'STU343', 'STU344', 'STU345', 'STU346', 'STU347', 'STU348', 'STU349', 'STU350', 'STU351', 'STU352', 'STU353', 'STU354', 'STU355', 'STU356', 'STU357', 'STU358', 'STU359', 'STU360', 'STU361', 'STU362', 'STU363', 'STU364', 'STU365', 'STU366', 'STU367', 'STU368', 'STU369', 'STU370', 'STU371', 'STU372', 'STU373', 'STU374', 'STU375', 'STU376', 'STU377', 'STU378', 'STU379', 'STU380', 'STU381', 'STU382', 'STU383', 'STU384', 'STU385', 'STU386', 'STU387', 'STU388', 'STU389', 'STU390', 'STU391', 'STU392', 'STU393', 'STU394', 'STU395', 'STU396', 'STU397', 'STU398', 'STU399', 'STU400', 'STU401', 'STU402', 'STU403', 'STU404', 'STU405', 'STU406', 'STU407', 'STU408', 'STU409', 'STU410', 'STU411', 'STU412', 'STU413', 'STU414', 'STU415', 'STU416', 'STU417', 'STU418', 'STU419', 'STU420', 'STU421', 'STU422', 'STU423', 'STU424', 'STU425', 'STU426', 'STU427', 'STU428', 'STU429', 'STU430', 'STU431', 'STU432', 'STU433', 'STU434', 'STU435', 'STU436', 'STU437', 'STU438', 'STU439', 'STU440', 'STU441', 'STU442', 'STU443', 'STU444', 'STU445', 'STU446', 'STU447', 'STU448', 'STU449', 'STU450', 'STU451', 'STU452', 'STU453', 'STU454', 'STU455', 'STU456', 'STU457', 'STU458', 'STU459', 'STU460', 'STU461', 'STU462', 'STU463', 'STU464', 'STU465', 'STU466', 'STU467', 'STU468', 'STU469', 'STU470', 'STU471', 'STU472', 'STU473', 'STU474', 'STU475', 'STU476', 'STU477', 'STU478', 'STU479', 'STU480', 'STU481', 'STU482', 'STU483', 'STU484', 'STU485', 'STU486', 'STU487', 'STU488', 'STU489', 'STU490', 'STU491', 'STU492', 'STU493', 'STU494', 'STU495', 'STU496', 'STU497', 'STU498', 'STU499']\n"
          ]
        }
      ]
    },
    {
      "cell_type": "code",
      "metadata": {
        "colab": {
          "base_uri": "https://localhost:8080/",
          "height": 423
        },
        "id": "tP1lK33IfHij",
        "outputId": "bfe2fbfa-0b6c-4697-de2e-575139693a33"
      },
      "source": [
        "df = pd.DataFrame({'Names': names, 'A01': np.random.normal(60,30,(500)),'A02': np.random.normal(70,25,(500)),'A03': np.random.normal(80,20,(500)),'A04': np.random.normal(90,10,(500)),'A05': np.random.normal(95,5,(500)),})\n",
        "df"
      ],
      "execution_count": null,
      "outputs": [
        {
          "output_type": "execute_result",
          "data": {
            "text/html": [
              "<div>\n",
              "<style scoped>\n",
              "    .dataframe tbody tr th:only-of-type {\n",
              "        vertical-align: middle;\n",
              "    }\n",
              "\n",
              "    .dataframe tbody tr th {\n",
              "        vertical-align: top;\n",
              "    }\n",
              "\n",
              "    .dataframe thead th {\n",
              "        text-align: right;\n",
              "    }\n",
              "</style>\n",
              "<table border=\"1\" class=\"dataframe\">\n",
              "  <thead>\n",
              "    <tr style=\"text-align: right;\">\n",
              "      <th></th>\n",
              "      <th>Names</th>\n",
              "      <th>A01</th>\n",
              "      <th>A02</th>\n",
              "      <th>A03</th>\n",
              "      <th>A04</th>\n",
              "      <th>A05</th>\n",
              "    </tr>\n",
              "  </thead>\n",
              "  <tbody>\n",
              "    <tr>\n",
              "      <th>0</th>\n",
              "      <td>STU0</td>\n",
              "      <td>55.396482</td>\n",
              "      <td>51.303756</td>\n",
              "      <td>68.370023</td>\n",
              "      <td>84.122445</td>\n",
              "      <td>93.185114</td>\n",
              "    </tr>\n",
              "    <tr>\n",
              "      <th>1</th>\n",
              "      <td>STU1</td>\n",
              "      <td>51.279124</td>\n",
              "      <td>78.186154</td>\n",
              "      <td>81.690385</td>\n",
              "      <td>88.923447</td>\n",
              "      <td>108.463704</td>\n",
              "    </tr>\n",
              "    <tr>\n",
              "      <th>2</th>\n",
              "      <td>STU2</td>\n",
              "      <td>85.736348</td>\n",
              "      <td>66.383353</td>\n",
              "      <td>102.098421</td>\n",
              "      <td>68.960470</td>\n",
              "      <td>97.111609</td>\n",
              "    </tr>\n",
              "    <tr>\n",
              "      <th>3</th>\n",
              "      <td>STU3</td>\n",
              "      <td>55.638848</td>\n",
              "      <td>59.139497</td>\n",
              "      <td>73.340374</td>\n",
              "      <td>89.472409</td>\n",
              "      <td>99.740070</td>\n",
              "    </tr>\n",
              "    <tr>\n",
              "      <th>4</th>\n",
              "      <td>STU4</td>\n",
              "      <td>34.720383</td>\n",
              "      <td>55.855686</td>\n",
              "      <td>88.644474</td>\n",
              "      <td>96.465854</td>\n",
              "      <td>94.585508</td>\n",
              "    </tr>\n",
              "    <tr>\n",
              "      <th>...</th>\n",
              "      <td>...</td>\n",
              "      <td>...</td>\n",
              "      <td>...</td>\n",
              "      <td>...</td>\n",
              "      <td>...</td>\n",
              "      <td>...</td>\n",
              "    </tr>\n",
              "    <tr>\n",
              "      <th>495</th>\n",
              "      <td>STU495</td>\n",
              "      <td>-0.126647</td>\n",
              "      <td>74.365037</td>\n",
              "      <td>101.360201</td>\n",
              "      <td>78.349790</td>\n",
              "      <td>92.114825</td>\n",
              "    </tr>\n",
              "    <tr>\n",
              "      <th>496</th>\n",
              "      <td>STU496</td>\n",
              "      <td>116.000446</td>\n",
              "      <td>56.292566</td>\n",
              "      <td>75.615814</td>\n",
              "      <td>82.130565</td>\n",
              "      <td>94.795188</td>\n",
              "    </tr>\n",
              "    <tr>\n",
              "      <th>497</th>\n",
              "      <td>STU497</td>\n",
              "      <td>29.406527</td>\n",
              "      <td>64.196908</td>\n",
              "      <td>85.587434</td>\n",
              "      <td>91.435988</td>\n",
              "      <td>95.449055</td>\n",
              "    </tr>\n",
              "    <tr>\n",
              "      <th>498</th>\n",
              "      <td>STU498</td>\n",
              "      <td>49.784011</td>\n",
              "      <td>74.221710</td>\n",
              "      <td>81.807936</td>\n",
              "      <td>83.615203</td>\n",
              "      <td>92.964221</td>\n",
              "    </tr>\n",
              "    <tr>\n",
              "      <th>499</th>\n",
              "      <td>STU499</td>\n",
              "      <td>79.473672</td>\n",
              "      <td>66.868900</td>\n",
              "      <td>65.759390</td>\n",
              "      <td>92.862639</td>\n",
              "      <td>90.214733</td>\n",
              "    </tr>\n",
              "  </tbody>\n",
              "</table>\n",
              "<p>500 rows × 6 columns</p>\n",
              "</div>"
            ],
            "text/plain": [
              "      Names         A01        A02         A03        A04         A05\n",
              "0      STU0   55.396482  51.303756   68.370023  84.122445   93.185114\n",
              "1      STU1   51.279124  78.186154   81.690385  88.923447  108.463704\n",
              "2      STU2   85.736348  66.383353  102.098421  68.960470   97.111609\n",
              "3      STU3   55.638848  59.139497   73.340374  89.472409   99.740070\n",
              "4      STU4   34.720383  55.855686   88.644474  96.465854   94.585508\n",
              "..      ...         ...        ...         ...        ...         ...\n",
              "495  STU495   -0.126647  74.365037  101.360201  78.349790   92.114825\n",
              "496  STU496  116.000446  56.292566   75.615814  82.130565   94.795188\n",
              "497  STU497   29.406527  64.196908   85.587434  91.435988   95.449055\n",
              "498  STU498   49.784011  74.221710   81.807936  83.615203   92.964221\n",
              "499  STU499   79.473672  66.868900   65.759390  92.862639   90.214733\n",
              "\n",
              "[500 rows x 6 columns]"
            ]
          },
          "metadata": {},
          "execution_count": 57
        }
      ]
    },
    {
      "cell_type": "code",
      "metadata": {
        "colab": {
          "base_uri": "https://localhost:8080/"
        },
        "id": "d1bOiNGffxtF",
        "outputId": "d24562b5-2942-4894-e1ea-d8cf7bfe12d0"
      },
      "source": [
        "df.info()"
      ],
      "execution_count": null,
      "outputs": [
        {
          "output_type": "stream",
          "name": "stdout",
          "text": [
            "<class 'pandas.core.frame.DataFrame'>\n",
            "RangeIndex: 500 entries, 0 to 499\n",
            "Data columns (total 6 columns):\n",
            " #   Column  Non-Null Count  Dtype  \n",
            "---  ------  --------------  -----  \n",
            " 0   Names   500 non-null    object \n",
            " 1   A01     500 non-null    float64\n",
            " 2   A02     500 non-null    float64\n",
            " 3   A03     500 non-null    float64\n",
            " 4   A04     500 non-null    float64\n",
            " 5   A05     500 non-null    float64\n",
            "dtypes: float64(5), object(1)\n",
            "memory usage: 23.6+ KB\n"
          ]
        }
      ]
    },
    {
      "cell_type": "code",
      "metadata": {
        "colab": {
          "base_uri": "https://localhost:8080/",
          "height": 300
        },
        "id": "6JMmgQ1Ef_JE",
        "outputId": "2109bb85-797d-4705-e2eb-46a72a3ec4e9"
      },
      "source": [
        "df.describe()"
      ],
      "execution_count": null,
      "outputs": [
        {
          "output_type": "execute_result",
          "data": {
            "text/html": [
              "<div>\n",
              "<style scoped>\n",
              "    .dataframe tbody tr th:only-of-type {\n",
              "        vertical-align: middle;\n",
              "    }\n",
              "\n",
              "    .dataframe tbody tr th {\n",
              "        vertical-align: top;\n",
              "    }\n",
              "\n",
              "    .dataframe thead th {\n",
              "        text-align: right;\n",
              "    }\n",
              "</style>\n",
              "<table border=\"1\" class=\"dataframe\">\n",
              "  <thead>\n",
              "    <tr style=\"text-align: right;\">\n",
              "      <th></th>\n",
              "      <th>A01</th>\n",
              "      <th>A02</th>\n",
              "      <th>A03</th>\n",
              "      <th>A04</th>\n",
              "      <th>A05</th>\n",
              "    </tr>\n",
              "  </thead>\n",
              "  <tbody>\n",
              "    <tr>\n",
              "      <th>count</th>\n",
              "      <td>500.000000</td>\n",
              "      <td>500.000000</td>\n",
              "      <td>500.000000</td>\n",
              "      <td>500.000000</td>\n",
              "      <td>500.000000</td>\n",
              "    </tr>\n",
              "    <tr>\n",
              "      <th>mean</th>\n",
              "      <td>58.477078</td>\n",
              "      <td>70.028993</td>\n",
              "      <td>79.038956</td>\n",
              "      <td>90.141198</td>\n",
              "      <td>94.895461</td>\n",
              "    </tr>\n",
              "    <tr>\n",
              "      <th>std</th>\n",
              "      <td>29.466824</td>\n",
              "      <td>26.006232</td>\n",
              "      <td>19.685804</td>\n",
              "      <td>9.850268</td>\n",
              "      <td>5.065827</td>\n",
              "    </tr>\n",
              "    <tr>\n",
              "      <th>min</th>\n",
              "      <td>-28.659528</td>\n",
              "      <td>-9.225594</td>\n",
              "      <td>30.353247</td>\n",
              "      <td>54.630624</td>\n",
              "      <td>79.662288</td>\n",
              "    </tr>\n",
              "    <tr>\n",
              "      <th>25%</th>\n",
              "      <td>38.532254</td>\n",
              "      <td>53.522811</td>\n",
              "      <td>65.918318</td>\n",
              "      <td>83.685024</td>\n",
              "      <td>91.804198</td>\n",
              "    </tr>\n",
              "    <tr>\n",
              "      <th>50%</th>\n",
              "      <td>58.708104</td>\n",
              "      <td>69.688547</td>\n",
              "      <td>78.574020</td>\n",
              "      <td>89.893109</td>\n",
              "      <td>94.900685</td>\n",
              "    </tr>\n",
              "    <tr>\n",
              "      <th>75%</th>\n",
              "      <td>77.453019</td>\n",
              "      <td>88.132331</td>\n",
              "      <td>93.125860</td>\n",
              "      <td>96.213013</td>\n",
              "      <td>98.114183</td>\n",
              "    </tr>\n",
              "    <tr>\n",
              "      <th>max</th>\n",
              "      <td>143.746774</td>\n",
              "      <td>143.464489</td>\n",
              "      <td>135.125678</td>\n",
              "      <td>115.820559</td>\n",
              "      <td>110.641406</td>\n",
              "    </tr>\n",
              "  </tbody>\n",
              "</table>\n",
              "</div>"
            ],
            "text/plain": [
              "              A01         A02         A03         A04         A05\n",
              "count  500.000000  500.000000  500.000000  500.000000  500.000000\n",
              "mean    58.477078   70.028993   79.038956   90.141198   94.895461\n",
              "std     29.466824   26.006232   19.685804    9.850268    5.065827\n",
              "min    -28.659528   -9.225594   30.353247   54.630624   79.662288\n",
              "25%     38.532254   53.522811   65.918318   83.685024   91.804198\n",
              "50%     58.708104   69.688547   78.574020   89.893109   94.900685\n",
              "75%     77.453019   88.132331   93.125860   96.213013   98.114183\n",
              "max    143.746774  143.464489  135.125678  115.820559  110.641406"
            ]
          },
          "metadata": {},
          "execution_count": 59
        }
      ]
    },
    {
      "cell_type": "code",
      "metadata": {
        "colab": {
          "base_uri": "https://localhost:8080/",
          "height": 423
        },
        "id": "Brxq_99xgL90",
        "outputId": "a094627e-9193-46ae-85cd-3da54cbd4dfd"
      },
      "source": [
        "df['Total'] = df['A01'] + df['A02'] + df['A03'] + df['A04'] + df['A05']\n",
        "df "
      ],
      "execution_count": null,
      "outputs": [
        {
          "output_type": "execute_result",
          "data": {
            "text/html": [
              "<div>\n",
              "<style scoped>\n",
              "    .dataframe tbody tr th:only-of-type {\n",
              "        vertical-align: middle;\n",
              "    }\n",
              "\n",
              "    .dataframe tbody tr th {\n",
              "        vertical-align: top;\n",
              "    }\n",
              "\n",
              "    .dataframe thead th {\n",
              "        text-align: right;\n",
              "    }\n",
              "</style>\n",
              "<table border=\"1\" class=\"dataframe\">\n",
              "  <thead>\n",
              "    <tr style=\"text-align: right;\">\n",
              "      <th></th>\n",
              "      <th>Names</th>\n",
              "      <th>A01</th>\n",
              "      <th>A02</th>\n",
              "      <th>A03</th>\n",
              "      <th>A04</th>\n",
              "      <th>A05</th>\n",
              "      <th>Total</th>\n",
              "    </tr>\n",
              "  </thead>\n",
              "  <tbody>\n",
              "    <tr>\n",
              "      <th>0</th>\n",
              "      <td>STU0</td>\n",
              "      <td>55.396482</td>\n",
              "      <td>51.303756</td>\n",
              "      <td>68.370023</td>\n",
              "      <td>84.122445</td>\n",
              "      <td>93.185114</td>\n",
              "      <td>352.377821</td>\n",
              "    </tr>\n",
              "    <tr>\n",
              "      <th>1</th>\n",
              "      <td>STU1</td>\n",
              "      <td>51.279124</td>\n",
              "      <td>78.186154</td>\n",
              "      <td>81.690385</td>\n",
              "      <td>88.923447</td>\n",
              "      <td>108.463704</td>\n",
              "      <td>408.542814</td>\n",
              "    </tr>\n",
              "    <tr>\n",
              "      <th>2</th>\n",
              "      <td>STU2</td>\n",
              "      <td>85.736348</td>\n",
              "      <td>66.383353</td>\n",
              "      <td>102.098421</td>\n",
              "      <td>68.960470</td>\n",
              "      <td>97.111609</td>\n",
              "      <td>420.290201</td>\n",
              "    </tr>\n",
              "    <tr>\n",
              "      <th>3</th>\n",
              "      <td>STU3</td>\n",
              "      <td>55.638848</td>\n",
              "      <td>59.139497</td>\n",
              "      <td>73.340374</td>\n",
              "      <td>89.472409</td>\n",
              "      <td>99.740070</td>\n",
              "      <td>377.331198</td>\n",
              "    </tr>\n",
              "    <tr>\n",
              "      <th>4</th>\n",
              "      <td>STU4</td>\n",
              "      <td>34.720383</td>\n",
              "      <td>55.855686</td>\n",
              "      <td>88.644474</td>\n",
              "      <td>96.465854</td>\n",
              "      <td>94.585508</td>\n",
              "      <td>370.271904</td>\n",
              "    </tr>\n",
              "    <tr>\n",
              "      <th>...</th>\n",
              "      <td>...</td>\n",
              "      <td>...</td>\n",
              "      <td>...</td>\n",
              "      <td>...</td>\n",
              "      <td>...</td>\n",
              "      <td>...</td>\n",
              "      <td>...</td>\n",
              "    </tr>\n",
              "    <tr>\n",
              "      <th>495</th>\n",
              "      <td>STU495</td>\n",
              "      <td>-0.126647</td>\n",
              "      <td>74.365037</td>\n",
              "      <td>101.360201</td>\n",
              "      <td>78.349790</td>\n",
              "      <td>92.114825</td>\n",
              "      <td>346.063207</td>\n",
              "    </tr>\n",
              "    <tr>\n",
              "      <th>496</th>\n",
              "      <td>STU496</td>\n",
              "      <td>116.000446</td>\n",
              "      <td>56.292566</td>\n",
              "      <td>75.615814</td>\n",
              "      <td>82.130565</td>\n",
              "      <td>94.795188</td>\n",
              "      <td>424.834579</td>\n",
              "    </tr>\n",
              "    <tr>\n",
              "      <th>497</th>\n",
              "      <td>STU497</td>\n",
              "      <td>29.406527</td>\n",
              "      <td>64.196908</td>\n",
              "      <td>85.587434</td>\n",
              "      <td>91.435988</td>\n",
              "      <td>95.449055</td>\n",
              "      <td>366.075912</td>\n",
              "    </tr>\n",
              "    <tr>\n",
              "      <th>498</th>\n",
              "      <td>STU498</td>\n",
              "      <td>49.784011</td>\n",
              "      <td>74.221710</td>\n",
              "      <td>81.807936</td>\n",
              "      <td>83.615203</td>\n",
              "      <td>92.964221</td>\n",
              "      <td>382.393081</td>\n",
              "    </tr>\n",
              "    <tr>\n",
              "      <th>499</th>\n",
              "      <td>STU499</td>\n",
              "      <td>79.473672</td>\n",
              "      <td>66.868900</td>\n",
              "      <td>65.759390</td>\n",
              "      <td>92.862639</td>\n",
              "      <td>90.214733</td>\n",
              "      <td>395.179335</td>\n",
              "    </tr>\n",
              "  </tbody>\n",
              "</table>\n",
              "<p>500 rows × 7 columns</p>\n",
              "</div>"
            ],
            "text/plain": [
              "      Names         A01        A02  ...        A04         A05       Total\n",
              "0      STU0   55.396482  51.303756  ...  84.122445   93.185114  352.377821\n",
              "1      STU1   51.279124  78.186154  ...  88.923447  108.463704  408.542814\n",
              "2      STU2   85.736348  66.383353  ...  68.960470   97.111609  420.290201\n",
              "3      STU3   55.638848  59.139497  ...  89.472409   99.740070  377.331198\n",
              "4      STU4   34.720383  55.855686  ...  96.465854   94.585508  370.271904\n",
              "..      ...         ...        ...  ...        ...         ...         ...\n",
              "495  STU495   -0.126647  74.365037  ...  78.349790   92.114825  346.063207\n",
              "496  STU496  116.000446  56.292566  ...  82.130565   94.795188  424.834579\n",
              "497  STU497   29.406527  64.196908  ...  91.435988   95.449055  366.075912\n",
              "498  STU498   49.784011  74.221710  ...  83.615203   92.964221  382.393081\n",
              "499  STU499   79.473672  66.868900  ...  92.862639   90.214733  395.179335\n",
              "\n",
              "[500 rows x 7 columns]"
            ]
          },
          "metadata": {},
          "execution_count": 60
        }
      ]
    },
    {
      "cell_type": "code",
      "metadata": {
        "colab": {
          "base_uri": "https://localhost:8080/",
          "height": 282
        },
        "id": "Htk6i9Iigl8N",
        "outputId": "ad3d7340-b2f2-4557-a4bf-7733bc811f98"
      },
      "source": [
        "df.plot()"
      ],
      "execution_count": null,
      "outputs": [
        {
          "output_type": "execute_result",
          "data": {
            "text/plain": [
              "<matplotlib.axes._subplots.AxesSubplot at 0x7faa437a8450>"
            ]
          },
          "metadata": {},
          "execution_count": 61
        },
        {
          "output_type": "display_data",
          "data": {
            "image/png": "[encoded data removed]",
            "text/plain": [
              "<Figure size 432x288 with 1 Axes>"
            ]
          },
          "metadata": {
            "needs_background": "light"
          }
        }
      ]
    },
    {
      "cell_type": "code",
      "metadata": {
        "colab": {
          "base_uri": "https://localhost:8080/",
          "height": 285
        },
        "id": "WARqLDrrgrm1",
        "outputId": "dbdde07e-1cd2-47bc-c779-133bf6f081e3"
      },
      "source": [
        "df.plot.hist()"
      ],
      "execution_count": null,
      "outputs": [
        {
          "output_type": "execute_result",
          "data": {
            "text/plain": [
              "<matplotlib.axes._subplots.AxesSubplot at 0x7faa43590790>"
            ]
          },
          "metadata": {},
          "execution_count": 65
        },
        {
          "output_type": "display_data",
          "data": {
            "image/png": "[encoded data removed]",
            "text/plain": [
              "<Figure size 432x288 with 1 Axes>"
            ]
          },
          "metadata": {
            "needs_background": "light"
          }
        }
      ]
    },
    {
      "cell_type": "code",
      "metadata": {
        "colab": {
          "base_uri": "https://localhost:8080/",
          "height": 282
        },
        "id": "92aJObKygxSd",
        "outputId": "b06a9b11-6537-40c4-ba55-f72a804364d3"
      },
      "source": [
        "df['Total'].plot.hist(bins = 20)"
      ],
      "execution_count": null,
      "outputs": [
        {
          "output_type": "execute_result",
          "data": {
            "text/plain": [
              "<matplotlib.axes._subplots.AxesSubplot at 0x7faa4344bfd0>"
            ]
          },
          "metadata": {},
          "execution_count": 66
        },
        {
          "output_type": "display_data",
          "data": {
            "image/png": "[encoded data removed]",
            "text/plain": [
              "<Figure size 432x288 with 1 Axes>"
            ]
          },
          "metadata": {
            "needs_background": "light"
          }
        }
      ]
    },
    {
      "cell_type": "code",
      "metadata": {
        "colab": {
          "base_uri": "https://localhost:8080/",
          "height": 296
        },
        "id": "hysel301hL7t",
        "outputId": "abdcd4b3-55f4-477b-ac62-682988b6adac"
      },
      "source": [
        "df.plot.scatter('A01', 'Total')"
      ],
      "execution_count": null,
      "outputs": [
        {
          "output_type": "execute_result",
          "data": {
            "text/plain": [
              "<matplotlib.axes._subplots.AxesSubplot at 0x7faa433655d0>"
            ]
          },
          "metadata": {},
          "execution_count": 67
        },
        {
          "output_type": "display_data",
          "data": {
            "image/png": "[encoded data removed]",
            "text/plain": [
              "<Figure size 432x288 with 1 Axes>"
            ]
          },
          "metadata": {
            "needs_background": "light"
          }
        }
      ]
    },
    {
      "cell_type": "code",
      "metadata": {
        "colab": {
          "base_uri": "https://localhost:8080/",
          "height": 282
        },
        "id": "_MfPAJr_hUiV",
        "outputId": "1ee7d5b6-4561-4748-b941-f0c688760026"
      },
      "source": [
        "df.plot.box()"
      ],
      "execution_count": null,
      "outputs": [
        {
          "output_type": "execute_result",
          "data": {
            "text/plain": [
              "<matplotlib.axes._subplots.AxesSubplot at 0x7faa43310890>"
            ]
          },
          "metadata": {},
          "execution_count": 68
        },
        {
          "output_type": "display_data",
          "data": {
            "image/png": "[encoded data removed]",
            "text/plain": [
              "<Figure size 432x288 with 1 Axes>"
            ]
          },
          "metadata": {
            "needs_background": "light"
          }
        }
      ]
    },
    {
      "cell_type": "code",
      "metadata": {
        "id": "gE-KWusRhcyO"
      },
      "source": [
        ""
      ],
      "execution_count": null,
      "outputs": []
    }
  ]
}