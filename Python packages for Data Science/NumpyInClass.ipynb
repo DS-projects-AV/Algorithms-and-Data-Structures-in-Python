{
  "nbformat": 4,
  "nbformat_minor": 0,
  "metadata": {
    "colab": {
      "name": "NumpyInClass.ipynb",
      "provenance": []
    },
    "kernelspec": {
      "name": "python3",
      "display_name": "Python 3"
    },
    "language_info": {
      "name": "python"
    }
  },
  "cells": [
    {
      "cell_type": "markdown",
      "metadata": {
        "id": "cdkmIohHAxka"
      },
      "source": [
        "Create numpy arrays using initializer"
      ]
    },
    {
      "cell_type": "code",
      "metadata": {
        "colab": {
          "base_uri": "https://localhost:8080/"
        },
        "id": "8OPH2aYNA1gT",
        "outputId": "92bdc55e-93a8-43cc-a6d2-73f773a1032c"
      },
      "source": [
        "import numpy as np\n",
        "\n",
        "#create one dimension array\n",
        "\n",
        "a1 = np.array([1, 2, 3, 4])\n",
        "print('a1', a1, a1.shape)"
      ],
      "execution_count": null,
      "outputs": [
        {
          "output_type": "stream",
          "name": "stdout",
          "text": [
            "a1 [1 2 3 4] (4,)\n"
          ]
        }
      ]
    },
    {
      "cell_type": "code",
      "metadata": {
        "colab": {
          "base_uri": "https://localhost:8080/"
        },
        "id": "MeIyTqLeBODU",
        "outputId": "21ca2317-8983-4cf0-87a4-bac34a43456c"
      },
      "source": [
        "#create two dimensional array\n",
        "\n",
        "a2 = np.array([[1, 2, 3, 4],[5, 6, 7, 8],[9, 10, 11, 12]])\n",
        "print('a2', a2, a2.shape)"
      ],
      "execution_count": null,
      "outputs": [
        {
          "output_type": "stream",
          "name": "stdout",
          "text": [
            "a2 [[ 1  2  3  4]\n",
            " [ 5  6  7  8]\n",
            " [ 9 10 11 12]] (3, 4)\n"
          ]
        }
      ]
    },
    {
      "cell_type": "code",
      "metadata": {
        "colab": {
          "base_uri": "https://localhost:8080/"
        },
        "id": "Vlp08FafBeV1",
        "outputId": "47914523-5fdd-4e71-b197-e29d38402a17"
      },
      "source": [
        "# create an array with zero, one, and x\n",
        "\n",
        "a3 = np.zeros((3, 4))\n",
        "print('a3', a3, a3.shape)\n",
        "\n",
        "a4 = np.ones((3, 4))\n",
        "print('a4', a4, a4.shape)\n",
        "\n",
        "a5 = np.full((3, 4),2.0)\n",
        "print('a5', a5, a5.shape)"
      ],
      "execution_count": null,
      "outputs": [
        {
          "output_type": "stream",
          "name": "stdout",
          "text": [
            "a3 [[0. 0. 0. 0.]\n",
            " [0. 0. 0. 0.]\n",
            " [0. 0. 0. 0.]] (3, 4)\n",
            "a4 [[1. 1. 1. 1.]\n",
            " [1. 1. 1. 1.]\n",
            " [1. 1. 1. 1.]] (3, 4)\n",
            "a5 [[2. 2. 2. 2.]\n",
            " [2. 2. 2. 2.]\n",
            " [2. 2. 2. 2.]] (3, 4)\n"
          ]
        }
      ]
    },
    {
      "cell_type": "code",
      "metadata": {
        "colab": {
          "base_uri": "https://localhost:8080/"
        },
        "id": "_l2x2oF9CA_g",
        "outputId": "9ac9aaa6-87ed-4d3a-9fb7-9a0931ef026e"
      },
      "source": [
        "# create arrays with random floats\n",
        "\n",
        "a6 = np.random.random((3, 4))\n",
        "print('a6', a6, a6.shape)"
      ],
      "execution_count": null,
      "outputs": [
        {
          "output_type": "stream",
          "name": "stdout",
          "text": [
            "a6 [[0.08437215 0.89212939 0.83846213 0.92826255]\n",
            " [0.45886376 0.80514139 0.79401216 0.0982468 ]\n",
            " [0.15197835 0.38898683 0.14539412 0.08089856]] (3, 4)\n"
          ]
        }
      ]
    },
    {
      "cell_type": "code",
      "metadata": {
        "colab": {
          "base_uri": "https://localhost:8080/"
        },
        "id": "qxX4q_l4CrnC",
        "outputId": "4d314995-f791-408d-b04c-d915ed68430d"
      },
      "source": [
        "# create an array with range and shape\n",
        "\n",
        "a7 = np.arange(200).reshape((-3, 10))\n",
        "print('a7', a7, a7.shape)"
      ],
      "execution_count": null,
      "outputs": [
        {
          "output_type": "stream",
          "name": "stdout",
          "text": [
            "a7 [[  0   1   2   3   4   5   6   7   8   9]\n",
            " [ 10  11  12  13  14  15  16  17  18  19]\n",
            " [ 20  21  22  23  24  25  26  27  28  29]\n",
            " [ 30  31  32  33  34  35  36  37  38  39]\n",
            " [ 40  41  42  43  44  45  46  47  48  49]\n",
            " [ 50  51  52  53  54  55  56  57  58  59]\n",
            " [ 60  61  62  63  64  65  66  67  68  69]\n",
            " [ 70  71  72  73  74  75  76  77  78  79]\n",
            " [ 80  81  82  83  84  85  86  87  88  89]\n",
            " [ 90  91  92  93  94  95  96  97  98  99]\n",
            " [100 101 102 103 104 105 106 107 108 109]\n",
            " [110 111 112 113 114 115 116 117 118 119]\n",
            " [120 121 122 123 124 125 126 127 128 129]\n",
            " [130 131 132 133 134 135 136 137 138 139]\n",
            " [140 141 142 143 144 145 146 147 148 149]\n",
            " [150 151 152 153 154 155 156 157 158 159]\n",
            " [160 161 162 163 164 165 166 167 168 169]\n",
            " [170 171 172 173 174 175 176 177 178 179]\n",
            " [180 181 182 183 184 185 186 187 188 189]\n",
            " [190 191 192 193 194 195 196 197 198 199]] (20, 10)\n"
          ]
        }
      ]
    },
    {
      "cell_type": "code",
      "metadata": {
        "colab": {
          "base_uri": "https://localhost:8080/"
        },
        "id": "3mNLuwWCC78j",
        "outputId": "76f7ae46-97c9-4914-a0d3-b4ef9ea162f4"
      },
      "source": [
        "#a2 is the matrxi to play\n",
        "print('a2', a2, a2.shape)\n",
        "\n",
        "r1 = a2[1,:]\n",
        "print('r1', r1, r1.shape)\n",
        "\n",
        "r2 = a2[1:2, :]\n",
        "print('r2', r2, r2.shape)"
      ],
      "execution_count": null,
      "outputs": [
        {
          "output_type": "stream",
          "name": "stdout",
          "text": [
            "a2 [[ 1  2  3  4]\n",
            " [ 5  6  7  8]\n",
            " [ 9 10 11 12]] (3, 4)\n",
            "r1 [5 6 7 8] (4,)\n",
            "r2 [[5 6 7 8]] (1, 4)\n"
          ]
        }
      ]
    },
    {
      "cell_type": "code",
      "metadata": {
        "colab": {
          "base_uri": "https://localhost:8080/"
        },
        "id": "D4B2EnPoFHxS",
        "outputId": "38d68ab1-72af-4529-9d60-c8fc72f60e71"
      },
      "source": [
        "r1[0] = 99\n",
        "print('r1', r1, r1.shape)\n",
        "print('a2', a2, a2.shape)"
      ],
      "execution_count": null,
      "outputs": [
        {
          "output_type": "stream",
          "name": "stdout",
          "text": [
            "r1 [99  6  7  8] (4,)\n",
            "a2 [[ 1  2  3  4]\n",
            " [99  6  7  8]\n",
            " [ 9 10 11 12]] (3, 4)\n"
          ]
        }
      ]
    },
    {
      "cell_type": "code",
      "metadata": {
        "colab": {
          "base_uri": "https://localhost:8080/"
        },
        "id": "9SLyjfD2Fo7b",
        "outputId": "4be77aa1-91af-4e1b-afda-7d2385768a9d"
      },
      "source": [
        "list1 = [1, 2, 3, 4]\n",
        "list2 = list1[:]\n",
        "print('list1', list1)\n",
        "print('list2', list2)\n",
        "list2[0] = 99\n",
        "print('list1', list1)\n",
        "print('list2', list2)"
      ],
      "execution_count": null,
      "outputs": [
        {
          "output_type": "stream",
          "name": "stdout",
          "text": [
            "list1 [1, 2, 3, 4]\n",
            "list2 [1, 2, 3, 4]\n",
            "list1 [1, 2, 3, 4]\n",
            "list2 [99, 2, 3, 4]\n"
          ]
        }
      ]
    },
    {
      "cell_type": "code",
      "metadata": {
        "colab": {
          "base_uri": "https://localhost:8080/"
        },
        "id": "i-EiUluyF-0j",
        "outputId": "6edb68d9-b6c5-435a-8e21-23e5ab1df840"
      },
      "source": [
        "c1 = a2[:,1]\n",
        "c2 = a2[:, 1:2]\n",
        "print('c1', c1, c1.shape)\n",
        "print('c2', c2, c2.shape)"
      ],
      "execution_count": null,
      "outputs": [
        {
          "output_type": "stream",
          "name": "stdout",
          "text": [
            "c1 [ 2  6 10] (3,)\n",
            "c2 [[ 2]\n",
            " [ 6]\n",
            " [10]] (3, 1)\n"
          ]
        }
      ]
    },
    {
      "cell_type": "code",
      "metadata": {
        "colab": {
          "base_uri": "https://localhost:8080/"
        },
        "id": "AQkEpuNiGTu0",
        "outputId": "e2296720-c9af-457a-ed97-5fc9e973d062"
      },
      "source": [
        "m1 = a2[1,1]\n",
        "m2 = a2[1:2, 1:2]\n",
        "print('m1', m1, m1.shape)\n",
        "print('m2', m2, m2.shape)"
      ],
      "execution_count": null,
      "outputs": [
        {
          "output_type": "stream",
          "name": "stdout",
          "text": [
            "m1 6 ()\n",
            "m2 [[6]] (1, 1)\n"
          ]
        }
      ]
    },
    {
      "cell_type": "code",
      "metadata": {
        "colab": {
          "base_uri": "https://localhost:8080/"
        },
        "id": "NxnxoKT4Glv0",
        "outputId": "7a33ecf2-2aa0-461b-e98a-d4218eb8d01c"
      },
      "source": [
        "a8 = np.arange(12).reshape((3, 4))\n",
        "print(a8)"
      ],
      "execution_count": null,
      "outputs": [
        {
          "output_type": "stream",
          "name": "stdout",
          "text": [
            "[[ 0  1  2  3]\n",
            " [ 4  5  6  7]\n",
            " [ 8  9 10 11]]\n"
          ]
        }
      ]
    },
    {
      "cell_type": "code",
      "metadata": {
        "colab": {
          "base_uri": "https://localhost:8080/"
        },
        "id": "_bd8DOWVH74X",
        "outputId": "30a64790-14c2-4dcc-b821-4af7b6e40b22"
      },
      "source": [
        "a9 = np.arange(12, 24, 1).reshape((3, 4))\n",
        "print(a9)"
      ],
      "execution_count": null,
      "outputs": [
        {
          "output_type": "stream",
          "name": "stdout",
          "text": [
            "[[12 13 14 15]\n",
            " [16 17 18 19]\n",
            " [20 21 22 23]]\n"
          ]
        }
      ]
    },
    {
      "cell_type": "code",
      "metadata": {
        "colab": {
          "base_uri": "https://localhost:8080/"
        },
        "id": "17CUvdHaIEHw",
        "outputId": "847c060e-84be-4cc7-a1cc-0ae6585723d9"
      },
      "source": [
        "a10 = a8 + a9\n",
        "print(a10)"
      ],
      "execution_count": null,
      "outputs": [
        {
          "output_type": "stream",
          "name": "stdout",
          "text": [
            "[[12 14 16 18]\n",
            " [20 22 24 26]\n",
            " [28 30 32 34]]\n"
          ]
        }
      ]
    },
    {
      "cell_type": "code",
      "metadata": {
        "colab": {
          "base_uri": "https://localhost:8080/"
        },
        "id": "iL7cEqmhIQvw",
        "outputId": "05f94fa3-e067-4c26-8507-9282270d7819"
      },
      "source": [
        "a11 = a8 - a9\n",
        "print(a11)"
      ],
      "execution_count": null,
      "outputs": [
        {
          "output_type": "stream",
          "name": "stdout",
          "text": [
            "[[-12 -12 -12 -12]\n",
            " [-12 -12 -12 -12]\n",
            " [-12 -12 -12 -12]]\n"
          ]
        }
      ]
    },
    {
      "cell_type": "code",
      "metadata": {
        "colab": {
          "base_uri": "https://localhost:8080/"
        },
        "id": "vmSc1_iSIYPQ",
        "outputId": "2067dd30-9fcb-42b7-b265-931c9e21dd86"
      },
      "source": [
        "a12 = a8 * a9\n",
        "a13 = a8 / a9\n",
        "print(a12)\n",
        "print(a13)"
      ],
      "execution_count": null,
      "outputs": [
        {
          "output_type": "stream",
          "name": "stdout",
          "text": [
            "[[  0  13  28  45]\n",
            " [ 64  85 108 133]\n",
            " [160 189 220 253]]\n",
            "[[0.         0.07692308 0.14285714 0.2       ]\n",
            " [0.25       0.29411765 0.33333333 0.36842105]\n",
            " [0.4        0.42857143 0.45454545 0.47826087]]\n"
          ]
        }
      ]
    },
    {
      "cell_type": "code",
      "metadata": {
        "colab": {
          "base_uri": "https://localhost:8080/"
        },
        "id": "18Q3uq9QIe3Z",
        "outputId": "d3ca3517-f083-43bc-eb04-0492e4e4eefe"
      },
      "source": [
        "a14 = a8.dot((a9.T))\n",
        "print(a14)"
      ],
      "execution_count": null,
      "outputs": [
        {
          "output_type": "stream",
          "name": "stdout",
          "text": [
            "[[ 86 110 134]\n",
            " [302 390 478]\n",
            " [518 670 822]]\n"
          ]
        }
      ]
    },
    {
      "cell_type": "code",
      "metadata": {
        "colab": {
          "base_uri": "https://localhost:8080/"
        },
        "id": "Wr9OwqRlIpkp",
        "outputId": "1f61f3e5-6678-443d-8a5f-c00ca77ef375"
      },
      "source": [
        "print(a14.min(),a14.max(), a14.min(axis = 0))"
      ],
      "execution_count": null,
      "outputs": [
        {
          "output_type": "stream",
          "name": "stdout",
          "text": [
            "86 822 [ 86 110 134]\n"
          ]
        }
      ]
    },
    {
      "cell_type": "code",
      "metadata": {
        "colab": {
          "base_uri": "https://localhost:8080/"
        },
        "id": "sHunm1PAI705",
        "outputId": "17a306d2-c650-47b0-fcb2-ffe999bbce01"
      },
      "source": [
        "a15 = np.arange(10)**3\n",
        "print(a15)"
      ],
      "execution_count": null,
      "outputs": [
        {
          "output_type": "stream",
          "name": "stdout",
          "text": [
            "[  0   1   8  27  64 125 216 343 512 729]\n"
          ]
        }
      ]
    },
    {
      "cell_type": "code",
      "metadata": {
        "colab": {
          "base_uri": "https://localhost:8080/"
        },
        "id": "ZTZ2F9CLJU7a",
        "outputId": "c5c1fd17-12fc-42f3-b8ed-b5eceecfd732"
      },
      "source": [
        "i = [1, 2, 4, 8]\n",
        "print(a15[i])"
      ],
      "execution_count": null,
      "outputs": [
        {
          "output_type": "stream",
          "name": "stdout",
          "text": [
            "[  1   8  64 512]\n"
          ]
        }
      ]
    },
    {
      "cell_type": "code",
      "metadata": {
        "colab": {
          "base_uri": "https://localhost:8080/"
        },
        "id": "P9g1OBO2Jo5a",
        "outputId": "e3ca9bae-f41a-453d-e222-9881373e4f51"
      },
      "source": [
        "b = a15 > 20\n",
        "print(b)\n",
        "\n",
        "print(a15[b])"
      ],
      "execution_count": null,
      "outputs": [
        {
          "output_type": "stream",
          "name": "stdout",
          "text": [
            "[False False False  True  True  True  True  True  True  True]\n",
            "[ 27  64 125 216 343 512 729]\n"
          ]
        }
      ]
    },
    {
      "cell_type": "code",
      "metadata": {
        "colab": {
          "base_uri": "https://localhost:8080/"
        },
        "id": "K4gFOb4DKT0r",
        "outputId": "f2d09a71-b1c2-4880-b4ef-3a4a04fdf139"
      },
      "source": [
        "c = np.where(a15 > 20)\n",
        "print(c)"
      ],
      "execution_count": null,
      "outputs": [
        {
          "output_type": "stream",
          "name": "stdout",
          "text": [
            "(array([3, 4, 5, 6, 7, 8, 9]),)\n"
          ]
        }
      ]
    },
    {
      "cell_type": "markdown",
      "metadata": {
        "id": "jrdwRI4kK21-"
      },
      "source": [
        "Create an array with 100 random floats\n",
        "• Print the elements > 0.5\n",
        "• Print the index of elements > 0.5\n",
        "• Replace the elements < 0.5 to be -1"
      ]
    },
    {
      "cell_type": "code",
      "metadata": {
        "colab": {
          "base_uri": "https://localhost:8080/"
        },
        "id": "YUqDoug7K5kF",
        "outputId": "533ceb91-94fd-4f0c-f73c-e30c6ec66af2"
      },
      "source": [
        "e1 = np.random.random(100)\n",
        "print('e1', e1, e1.shape)"
      ],
      "execution_count": null,
      "outputs": [
        {
          "output_type": "stream",
          "name": "stdout",
          "text": [
            "e1 [0.82455684 0.84618333 0.85007033 0.05652252 0.87869797 0.88126654\n",
            " 0.28890515 0.88024869 0.14741565 0.71464875 0.35072077 0.98330663\n",
            " 0.37657882 0.68874702 0.18214621 0.71198668 0.09534046 0.92293208\n",
            " 0.03909067 0.01924602 0.96695888 0.29241187 0.0314471  0.28601804\n",
            " 0.88466058 0.10802061 0.68065907 0.61755068 0.57660199 0.88115613\n",
            " 0.20014312 0.50721161 0.79040359 0.20734937 0.00161767 0.15658754\n",
            " 0.64001102 0.61410536 0.12156549 0.76593358 0.78068953 0.63550623\n",
            " 0.09675897 0.75491199 0.48366325 0.65162061 0.17614733 0.4773259\n",
            " 0.34554004 0.42083973 0.35933174 0.13067304 0.97883    0.15403732\n",
            " 0.36512437 0.25609784 0.97850071 0.3766542  0.28844095 0.56614589\n",
            " 0.91841234 0.85921436 0.75898826 0.16501338 0.58119792 0.07840049\n",
            " 0.28111755 0.8358466  0.36712851 0.73181995 0.49973388 0.07987063\n",
            " 0.42958472 0.66108884 0.14504844 0.6738624  0.02591067 0.79381224\n",
            " 0.74698818 0.73359755 0.86146404 0.73649148 0.29571222 0.33090219\n",
            " 0.32302538 0.67868844 0.49046965 0.4937038  0.48502202 0.09049936\n",
            " 0.4467135  0.88492002 0.56871539 0.55925823 0.09328759 0.61099788\n",
            " 0.95042081 0.47919466 0.13722627 0.47425871] (100,)\n"
          ]
        }
      ]
    },
    {
      "cell_type": "code",
      "metadata": {
        "colab": {
          "base_uri": "https://localhost:8080/"
        },
        "id": "hFlrIWCXLCT0",
        "outputId": "c9f120b7-c634-43b7-82c7-d2dd628cc328"
      },
      "source": [
        "print(e1[e1 > 0.5])"
      ],
      "execution_count": null,
      "outputs": [
        {
          "output_type": "stream",
          "name": "stdout",
          "text": [
            "[0.82455684 0.84618333 0.85007033 0.87869797 0.88126654 0.88024869\n",
            " 0.71464875 0.98330663 0.68874702 0.71198668 0.92293208 0.96695888\n",
            " 0.88466058 0.68065907 0.61755068 0.57660199 0.88115613 0.50721161\n",
            " 0.79040359 0.64001102 0.61410536 0.76593358 0.78068953 0.63550623\n",
            " 0.75491199 0.65162061 0.97883    0.97850071 0.56614589 0.91841234\n",
            " 0.85921436 0.75898826 0.58119792 0.8358466  0.73181995 0.66108884\n",
            " 0.6738624  0.79381224 0.74698818 0.73359755 0.86146404 0.73649148\n",
            " 0.67868844 0.88492002 0.56871539 0.55925823 0.61099788 0.95042081]\n"
          ]
        }
      ]
    },
    {
      "cell_type": "code",
      "metadata": {
        "colab": {
          "base_uri": "https://localhost:8080/"
        },
        "id": "lnvMUI1DLNa8",
        "outputId": "03b663ec-7898-4727-8db7-6f0e28f830e9"
      },
      "source": [
        "print(np.where(e1> 0.5))"
      ],
      "execution_count": null,
      "outputs": [
        {
          "output_type": "stream",
          "name": "stdout",
          "text": [
            "(array([ 0,  1,  2,  4,  5,  7,  9, 11, 13, 15, 17, 20, 24, 26, 27, 28, 29,\n",
            "       31, 32, 36, 37, 39, 40, 41, 43, 45, 52, 56, 59, 60, 61, 62, 64, 67,\n",
            "       69, 73, 75, 77, 78, 79, 80, 81, 85, 91, 92, 93, 95, 96]),)\n"
          ]
        }
      ]
    },
    {
      "cell_type": "code",
      "metadata": {
        "colab": {
          "base_uri": "https://localhost:8080/"
        },
        "id": "qWFXZvJHLfcd",
        "outputId": "ee94072b-e775-4632-8b8a-c50ad379f41f"
      },
      "source": [
        "e1[e1 <0.5] = -1\n",
        "print(e1)"
      ],
      "execution_count": null,
      "outputs": [
        {
          "output_type": "stream",
          "name": "stdout",
          "text": [
            "[ 0.82455684  0.84618333  0.85007033 -1.          0.87869797  0.88126654\n",
            " -1.          0.88024869 -1.          0.71464875 -1.          0.98330663\n",
            " -1.          0.68874702 -1.          0.71198668 -1.          0.92293208\n",
            " -1.         -1.          0.96695888 -1.         -1.         -1.\n",
            "  0.88466058 -1.          0.68065907  0.61755068  0.57660199  0.88115613\n",
            " -1.          0.50721161  0.79040359 -1.         -1.         -1.\n",
            "  0.64001102  0.61410536 -1.          0.76593358  0.78068953  0.63550623\n",
            " -1.          0.75491199 -1.          0.65162061 -1.         -1.\n",
            " -1.         -1.         -1.         -1.          0.97883    -1.\n",
            " -1.         -1.          0.97850071 -1.         -1.          0.56614589\n",
            "  0.91841234  0.85921436  0.75898826 -1.          0.58119792 -1.\n",
            " -1.          0.8358466  -1.          0.73181995 -1.         -1.\n",
            " -1.          0.66108884 -1.          0.6738624  -1.          0.79381224\n",
            "  0.74698818  0.73359755  0.86146404  0.73649148 -1.         -1.\n",
            " -1.          0.67868844 -1.         -1.         -1.         -1.\n",
            " -1.          0.88492002  0.56871539  0.55925823 -1.          0.61099788\n",
            "  0.95042081 -1.         -1.         -1.        ]\n"
          ]
        }
      ]
    },
    {
      "cell_type": "code",
      "metadata": {
        "colab": {
          "base_uri": "https://localhost:8080/"
        },
        "id": "PoxQywrNL0GF",
        "outputId": "83ce11d2-ba6b-465c-b46a-d30bd93a5370"
      },
      "source": [
        "e3 = np.random.randint(0, 100, (100))\n",
        "print(e3)"
      ],
      "execution_count": null,
      "outputs": [
        {
          "output_type": "stream",
          "name": "stdout",
          "text": [
            "[65 49 39 62 84 54 71 58 93 86 74 77 20 96 18 99 25 55 13 69  2 69 35  4\n",
            " 75 77 11 65 76 16 67 82 16 37 11  8 55 74 84  1 92 62 83 51 77 59 24 38\n",
            " 47 61 26 87 67 23 21 84 68 58 70 19 82 78 44  7 90  6 18 63 50 21 96 39\n",
            " 45 87 94  2 23 32 75 65 16 59 53 47 68 57 15 23 57 22 69 91 64  9 10 60\n",
            " 21 59 59 30]\n"
          ]
        }
      ]
    },
    {
      "cell_type": "code",
      "metadata": {
        "colab": {
          "base_uri": "https://localhost:8080/"
        },
        "id": "VC4EvsZuMLoO",
        "outputId": "216f0428-2221-463d-e029-f297da449284"
      },
      "source": [
        "print(e3.min(), e3.max())"
      ],
      "execution_count": null,
      "outputs": [
        {
          "output_type": "stream",
          "name": "stdout",
          "text": [
            "1 99\n"
          ]
        }
      ]
    },
    {
      "cell_type": "code",
      "metadata": {
        "colab": {
          "base_uri": "https://localhost:8080/"
        },
        "id": "oDUk_wiSMSw-",
        "outputId": "ae87a17f-9abe-4bec-fdae-acd69eacb06d"
      },
      "source": [
        "min = e3.min()\n",
        "max = e3.max()\n",
        "e4 = (e3 - min) / (max - min)\n",
        "print(e4)"
      ],
      "execution_count": null,
      "outputs": [
        {
          "output_type": "stream",
          "name": "stdout",
          "text": [
            "[0.65306122 0.48979592 0.3877551  0.62244898 0.84693878 0.54081633\n",
            " 0.71428571 0.58163265 0.93877551 0.86734694 0.74489796 0.7755102\n",
            " 0.19387755 0.96938776 0.17346939 1.         0.24489796 0.55102041\n",
            " 0.12244898 0.69387755 0.01020408 0.69387755 0.34693878 0.03061224\n",
            " 0.75510204 0.7755102  0.10204082 0.65306122 0.76530612 0.15306122\n",
            " 0.67346939 0.82653061 0.15306122 0.36734694 0.10204082 0.07142857\n",
            " 0.55102041 0.74489796 0.84693878 0.         0.92857143 0.62244898\n",
            " 0.83673469 0.51020408 0.7755102  0.59183673 0.23469388 0.37755102\n",
            " 0.46938776 0.6122449  0.25510204 0.87755102 0.67346939 0.2244898\n",
            " 0.20408163 0.84693878 0.68367347 0.58163265 0.70408163 0.18367347\n",
            " 0.82653061 0.78571429 0.43877551 0.06122449 0.90816327 0.05102041\n",
            " 0.17346939 0.63265306 0.5        0.20408163 0.96938776 0.3877551\n",
            " 0.44897959 0.87755102 0.94897959 0.01020408 0.2244898  0.31632653\n",
            " 0.75510204 0.65306122 0.15306122 0.59183673 0.53061224 0.46938776\n",
            " 0.68367347 0.57142857 0.14285714 0.2244898  0.57142857 0.21428571\n",
            " 0.69387755 0.91836735 0.64285714 0.08163265 0.09183673 0.60204082\n",
            " 0.20408163 0.59183673 0.59183673 0.29591837]\n"
          ]
        }
      ]
    },
    {
      "cell_type": "code",
      "metadata": {
        "colab": {
          "base_uri": "https://localhost:8080/"
        },
        "id": "pcjyd_oxM-Ef",
        "outputId": "22a8ebcb-b587-4f46-d6a4-882c3d2e5b8f"
      },
      "source": [
        "e4 = np.random.randint(0, 100, (100))\n",
        "print(e4)"
      ],
      "execution_count": null,
      "outputs": [
        {
          "output_type": "stream",
          "name": "stdout",
          "text": [
            "[36 78 71 50 15 79  4 27 23 98 23 31 15 50 89 17 93 40  7 16 93 85 94  6\n",
            "  6 37 70 63 76 95  9 24 66 58 53 21 91 31 47 21 28 61 58 85 70 90 10 70\n",
            " 70  3 62 52  1 99 61 86 21 41 90 84 12 60  2 15 57 11 43  2 79  6 44 56\n",
            "  9 25 83 77 76 85 56 76  1 74 60 40 29 64 40 86 10 93 80 85 91  7 63 13\n",
            " 64  0 37 41]\n"
          ]
        }
      ]
    },
    {
      "cell_type": "code",
      "metadata": {
        "colab": {
          "base_uri": "https://localhost:8080/"
        },
        "id": "9Rf-sVhsNdiP",
        "outputId": "f4a672dd-7287-4abc-e5fc-40270f78002a"
      },
      "source": [
        "print(np.percentile(e4, [25, 50, 75]))"
      ],
      "execution_count": null,
      "outputs": [
        {
          "output_type": "stream",
          "name": "stdout",
          "text": [
            "[21.   52.5  76.25]\n"
          ]
        }
      ]
    },
    {
      "cell_type": "code",
      "metadata": {
        "id": "CduHVgGbNyt_"
      },
      "source": [
        ""
      ],
      "execution_count": null,
      "outputs": []
    }
  ]
}