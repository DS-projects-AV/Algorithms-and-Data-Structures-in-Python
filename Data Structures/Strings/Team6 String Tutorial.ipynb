{
 "cells": [
  {
   "cell_type": "code",
   "execution_count": null,
   "id": "87e1f77d",
   "metadata": {},
   "outputs": [],
   "source": [
    "# <span style=\"color:blue\">Team 6 Tutorial - Strings</span> "
   ]
  },
  {
   "cell_type": "markdown",
   "id": "d68aec42-7220-43b4-8e39-90f799653dd6",
   "metadata": {},
   "source": [
    "## Introduction, Definition of a String"
   ]
  },
  {
   "cell_type": "markdown",
   "id": "08a0ab3d-af78-4df4-8487-bf701d3cb7c4",
   "metadata": {},
   "source": [
    "### *<span style=\"color:red\">Our data structure is String. String is a primitive data type in Python, it is an array data structure that is populated with bytes representing Unicode characters. This specific arrangement helps us in using the array method of accessing elements using the index number.</span>* ###\n",
    "### *<span style=\"color:red\">So in the string fruit = \"apple\", to access \"l\" we can simply write fruit[3].</span>* ###\n",
    "### *<span style=\"color:red\">In Python, a string can be declared by placing the characters in between a single quote, double quotes or triple quotes.</span>* ###\n",
    "---"
   ]
  },
  {
   "cell_type": "markdown",
   "id": "cd4a25bb-03fd-44cc-99eb-204213d5c656",
   "metadata": {},
   "source": [
    "## Examples/Applications in Daily Life"
   ]
  },
  {
   "cell_type": "markdown",
   "id": "75bea35f-2866-4ff7-8743-1a4a5d1f3027",
   "metadata": {},
   "source": [
    "### *<span style=\"color:red\">1.Entry for different kinds of data like name, addresses etc.</span>* ###\n",
    "### *<span style=\"color:red\">2.Outputs from many computational devices is usually in the form of a string.</span>* ###\n",
    "### *<span style=\"color:red\">3.Strings are also used in creation of blogs, online articles and so on.</span>* ###"
   ]
  },
  {
   "cell_type": "markdown",
   "id": "0d7ab69d-e555-480a-b095-49a6dcf7f384",
   "metadata": {},
   "source": [
    "## Examples/Applications in Programs\n"
   ]
  },
  {
   "cell_type": "markdown",
   "id": "84a6e1e0",
   "metadata": {},
   "source": [
    "# <span style=\"color:red\">Since Python doesn’t have a specific character type, strings are used for any operation that involves using character data.</span> ###\n",
    "### <span style=\"color:red\">So, some of the applications are:</span> ###\n",
    "### <span style=\"color:red\">1.Strings are used in python to store and access the character data type.</span> ###\n",
    "### <span style=\"color:red\">2.They are used to return a value in the form of a description.</span> ###\n",
    "### <span style=\"color:red\">3.Used in error troubleshooting and solution description.</span> ###\n",
    "---"
   ]
  },
  {
   "cell_type": "markdown",
   "id": "19871b07-f23a-4acf-bd2c-10f99ce86af1",
   "metadata": {},
   "source": [
    "## Complexity Analysis of string for typical operations"
   ]
  },
  {
   "cell_type": "markdown",
   "id": "25d8b779-54e8-40e8-be9f-f5158717cdc9",
   "metadata": {},
   "source": [
    "### *<span style=\"color:red\">Since strings are immutable, many operations that can be performed on lists cannot be performed on them. So some common operations like Append, Prepend, Insert and Delete does not have any complexities</span>* ###\n",
    "### *<span style=\"color:red\">Access  - O(1)</span>* ###\n",
    "### *<span style=\"color:red\">Search  - O(n)</span>* ###\n",
    "### *<span style=\"color:red\">Append  - NA</span>* ###\n",
    "### *<span style=\"color:red\">Prepend - NA</span>* ###\n",
    "### *<span style=\"color:red\">Insert  - NA</span>* ###\n",
    "### *<span style=\"color:red\">Delete  - NA</span>* ###\n",
    "---"
   ]
  },
  {
   "cell_type": "markdown",
   "id": "e19a9e2c-66de-494c-a25c-53e28c1e8ecf",
   "metadata": {},
   "source": [
    "## Python 3 Running Examples"
   ]
  },
  {
   "cell_type": "markdown",
   "id": "a9eca31a-a97d-4a7a-8ff4-bf5dd12dca29",
   "metadata": {},
   "source": [
    "### *<span style=\"color:red\">String Mutation: Strings are immutable, hence we cannot mutate a string once declared</span>* ###\n",
    "### *<span style=\"color:red\">String Iteration: Iterate through a string and output the elements in the string</span>* ###\n",
    "### *<span style=\"color:red\">String Slicing: Slice the string from a particular index number</span>* ###\n",
    "### *<span style=\"color:red\">String Formatting: Using formatters like fstrings to concatenate strings instead of doing it manually</span>* ###\n",
    "### *<span style=\"color:red\">String Concatenation: Two strings can be joined together just like an array using the “+” operator</span>* ###\n",
    "### *<span style=\"color:red\">String Deletion: A particular element in the string cannot be deleted but the string in its entirety can be using the “del” keyword.</span>* ###\n",
    "\n",
    "\n",
    "---"
   ]
  },
  {
   "cell_type": "code",
   "execution_count": 38,
   "id": "98e19e58-b2a2-4ea5-97dd-56e8c964591f",
   "metadata": {},
   "outputs": [
    {
     "name": "stdout",
     "output_type": "stream",
     "text": [
      "D a t a   S t r u c t u r e s   a n d   A l g o r i t h m s \n",
      "\n",
      "-----------------------\n",
      "String slicing\n",
      "Uni\n",
      "nv\n",
      "redluoB ,od\n",
      "-----------------------\n",
      "Data Science is a  evolving field.\n",
      "-----------------------\n",
      "We are team 6 and we are amazing\n",
      "-----------------------\n",
      "data structures and algorithms\n",
      "DATA STRUCTURES AND ALGORITHMS\n",
      "-----------------------\n",
      "A Thousand Splendid Sharks\n",
      "-----------------------\n",
      "49\n",
      "-----------------------\n",
      "University of Colorado Boulder\n",
      "redluoB odaroloC fo ytisrevinU\n",
      "-----------------------\n",
      "University for Colorado Boulder\n",
      "-----------------------\n",
      "He\n",
      "p?\n",
      "ey\n",
      "?pussaw ,yddub yeH\n",
      "-----------------------\n",
      "Hey\n",
      "Hey buddy\n"
     ]
    }
   ],
   "source": [
    "#String Iteration\n",
    "str1 = \"Data Structures and Algorithms\"  \n",
    "for e in str1:\n",
    "    print(e, end=' ')\n",
    "print(\"\\n\")\n",
    "\n",
    "print(\"-----------------------\")\n",
    "\n",
    "#String Slicing\n",
    "s ='University of Colorado, Boulder'\n",
    "s1 = slice(3)\n",
    "s2 = slice(1, 5, 2) \n",
    "s3 = slice(-1, -12, -1)\n",
    "print(\"String slicing\") \n",
    "print(s[s1]) \n",
    "print(s[s2]) \n",
    "print(s[s3])\n",
    "\n",
    "print(\"-----------------------\")\n",
    "\n",
    "#String Formatting\n",
    "s1 = 'Data Science'\n",
    "s2 =' evolving'\n",
    "print(f\"{s1} is a {s2} field.\")\n",
    "\n",
    "print(\"-----------------------\")\n",
    "\n",
    "#String Concatenation\n",
    "a = \"We are team 6 \"\n",
    "b = \"and we are amazing\"\n",
    "c =  a + b\n",
    "print(c)\n",
    "\n",
    "print(\"-----------------------\")\n",
    "\n",
    "#String Deletion\n",
    "del(a)\n",
    "# print(a)\n",
    "\n",
    "\n",
    "#Some more Examples of string operations:\n",
    "\n",
    "\n",
    "#String Upper, Lower and Title methods\n",
    "str1 = \"Data Structures and Algorithms\"\n",
    "print(str1.lower())\n",
    "print(str1.upper())\n",
    "\n",
    "print(\"-----------------------\")\n",
    "\n",
    "book = \"a thousand splendid sharks\"\n",
    "print(book.title())\n",
    "\n",
    "print(\"-----------------------\")\n",
    "\n",
    "#String Length\n",
    "\n",
    "str2= \"Prof Di Wu teaches Data structures and Algorithms\"\n",
    "print(len(str2))\n",
    "\n",
    "print(\"-----------------------\")\n",
    "\n",
    "#String Join method\n",
    "lst1 = [\"University\", \"of\", \"Colorado\", \"Boulder\"]\n",
    "str3 = \" \".join(lst1)\n",
    "print(str3)\n",
    "\n",
    "print(\"\".join(reversed(str3)))\n",
    "\n",
    "print(\"-----------------------\")\n",
    "\n",
    "#String Replace method\n",
    "print(str3.replace(\"of\",\"for\"))\n",
    "\n",
    "print(\"-----------------------\")\n",
    "\n",
    "#String Split method\n",
    "\n",
    "str2 = \"Hey buddy, wassup?\"\n",
    "\n",
    "print(str2[:2])\n",
    "\n",
    "print(str2[-2:])\n",
    "\n",
    "print(str2[1:3])\n",
    "\n",
    "print(str2[::-1])\n",
    "\n",
    "print(\"-----------------------\")\n",
    "\n",
    "# Extract words from string\n",
    "\n",
    "print(str2.split()[0])\n",
    "\n",
    "#Using Comma as a seperator\n",
    "print(str2.split(',')[0])\n",
    "\n"
   ]
  },
  {
   "cell_type": "markdown",
   "id": "8a3441cd-12e5-408e-a9c9-4862a7ae4e41",
   "metadata": {},
   "source": [
    "## Python 3 Implementation"
   ]
  },
  {
   "cell_type": "markdown",
   "id": "35138ca8-7c04-40d4-b8ac-58049deb876c",
   "metadata": {},
   "source": [
    "### *<span style=\"color:red\">In Python, a string can be declared by placing the characters in between a single quote, double quotes, triple quotes or three single quotes</span>* ###\n",
    "---"
   ]
  },
  {
   "cell_type": "code",
   "execution_count": 39,
   "id": "594dafcc-2960-495a-83c3-30e804c394ba",
   "metadata": {},
   "outputs": [
    {
     "name": "stdout",
     "output_type": "stream",
     "text": [
      "Hello\n",
      "Hello\n",
      "Hello\n",
      "Hello, welcome to our project.\n"
     ]
    }
   ],
   "source": [
    "# Double click to fill your python code here\n",
    "s1 = 'Hello'\n",
    "print(s1)\n",
    "\n",
    "s2 = \"Hello\"\n",
    "print(s2)\n",
    "\n",
    "s3= '''Hello'''\n",
    "print(s3)\n",
    "\n",
    "# triple quotes string can extend multiple lines\n",
    "s4 = \"\"\"Hello, welcome to our project.\"\"\"\n",
    "print(s4)"
   ]
  },
  {
   "cell_type": "markdown",
   "id": "8c1660cf-9e5f-4a53-89b7-677fb86db3a3",
   "metadata": {
    "tags": []
   },
   "source": [
    "## Backstage of Your Learning\n",
    "\n",
    "You should provide a short answer for:\n",
    "1. What did you learn from preparing this tutorial?\n",
    "2. What is the most difficulty part of doing this project?\n",
    "3. How did you overcome the difficulty and accomplish this project?\n",
    "4. In a scale of 1 (least satisfied) to 5 (very satisfied), how do you evaluate your tutorial?\n",
    "5. If you have the chance to start it over, what would you change?"
   ]
  },
  {
   "cell_type": "markdown",
   "id": "6f8e7a09-ce21-4656-88c1-c0da7d72df76",
   "metadata": {},
   "source": [
    "### *<span style=\"color:red\">1.Preparing this tutorial definitely made us aware to some things which initially we had no idea about. In terms of technical knowledge we came to learn that how strings are not their own data structure but are based upon arrays. This also helps us in accessing elements from string using index. In terms of teaching we learned how much work should one has to put into making a good lecture and also making the students understand it. Its been a completely new experience for us and we learned many things from this experience.</span>* ###\n",
    "### *<span style=\"color:red\">2.Most of the work we had to put in the project was fairly expected. A part where we faced some amount of difficulty was in relating real life examples to strings.</span>* ###\n",
    "### *<span style=\"color:red\">3.As we said, most of the work was fairly expected and we enjoyed working on the project. Deeper research and confirmation helped us overcome this obstacle.</span>* ###\n",
    "### *<span style=\"color:red\">4.On a scale of 1 to 5, we would give ours a rating of 4.5, as we are satisfied with the effort we have put in and also the outcome we've got(appreciation from you)</span>* ###\n",
    "### *<span style=\"color:red\">5.To be honest, the primary reason we didn't give ourselves a 5 is that we couldn't go more in depth of strings because of the time limit. If we had the chance to get more time we would have included some more interesting details about strings.</span>* ###\n",
    "---"
   ]
  },
  {
   "cell_type": "markdown",
   "id": "6d0878b0-e7da-4a6d-8835-95e5579e51f0",
   "metadata": {
    "tags": []
   },
   "source": [
    "## List of resources you learned, collected, borrowed from the internet"
   ]
  },
  {
   "cell_type": "markdown",
   "id": "8b6cb090-1259-4d97-8457-4546a40a29b6",
   "metadata": {},
   "source": [
    "\n",
    "### *<span style=\"color:red\">https://www.w3schools.com/python/python_strings.asp</span>* ###\n",
    "### *<span style=\"color:red\">https://www.geeksforgeeks.org/python-strings/</span>* ###\n",
    "### *<span style=\"color:red\">https://www.tutorialspoint.com/python/python_strings.htm</span>* ###\n",
    "---\n",
    "---"
   ]
  },
  {
   "cell_type": "markdown",
   "id": "ce3bf03b-8f33-4fc9-b6b8-306f5eb4f62d",
   "metadata": {},
   "source": [
    "## List of authors, contributors for this tutorial"
   ]
  },
  {
   "cell_type": "markdown",
   "id": "4f7cedb9-df9b-45ac-a0a3-df02499b7035",
   "metadata": {},
   "source": [
    "### *<span style=\"color:red\">Shashikiran Peddireddy - Coding and Documentation</span>* ###\n",
    "### *<span style=\"color:red\">Venkata Durga Avinash Bobbala - Video recorder and editor</span>* ###\n",
    "### *<span style=\"color:red\">Anita Teladevalapalli - Presenter </span>* ###\n",
    "### *<span style=\"color:red\">Andrew Kent - Team Helper </span>* ###\n",
    "\n",
    "---"
   ]
  }
 ],
 "metadata": {
  "kernelspec": {
   "display_name": "Python 3",
   "language": "python",
   "name": "python3"
  },
  "language_info": {
   "codemirror_mode": {
    "name": "ipython",
    "version": 3
   },
   "file_extension": ".py",
   "mimetype": "text/x-python",
   "name": "python",
   "nbconvert_exporter": "python",
   "pygments_lexer": "ipython3",
   "version": "3.8.8"
  }
 },
 "nbformat": 4,
 "nbformat_minor": 5
}
